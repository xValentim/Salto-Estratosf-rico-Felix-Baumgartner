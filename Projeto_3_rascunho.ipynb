{
 "cells": [
  {
   "cell_type": "code",
   "execution_count": 95,
   "metadata": {},
   "outputs": [],
   "source": [
    "# Importa bibliotecas\n",
    "import numpy as np\n",
    "import matplotlib.pyplot as plt\n",
    "from math import *\n",
    "from scipy.integrate import odeint\n",
    "import pandas as pd"
   ]
  },
  {
   "cell_type": "markdown",
   "metadata": {},
   "source": [
    "## Dados constantes"
   ]
  },
  {
   "cell_type": "code",
   "execution_count": 96,
   "metadata": {},
   "outputs": [],
   "source": [
    "# Valores constantes\n",
    "g_0 = 9.8 # m/s^2\n",
    "H = 3657 # m Altura total do pulo\n",
    "Cd = 1.2 # Pesquisar uma média\n",
    "m = 80 # kg massa média\n",
    "A_0 = 0.5 # m^2 Áre de queda com a pessoa paralela ao solo\n",
    "A_paraquedas = 24.5 # m^2 Área do paraquedas\n",
    "pa = 1.2 # kg/m^3 Densidade do ar"
   ]
  },
  {
   "cell_type": "markdown",
   "metadata": {},
   "source": [
    "## Implementando o modelo"
   ]
  },
  {
   "cell_type": "code",
   "execution_count": 97,
   "metadata": {},
   "outputs": [],
   "source": [
    "# pa, A, Cd\n",
    "def modelo(X, t, pa, A, Cd):\n",
    "    x = X[0]\n",
    "    y = X[1]\n",
    "    vx = X[2]\n",
    "    vy = X[3]\n",
    "    \n",
    "    if y <= 1500:\n",
    "        A = A_paraquedas\n",
    "\n",
    "    P = m * g_0\n",
    "    D = (1 / 2) * pa * A * Cd * (vy * vy + vx * vx)\n",
    "    \n",
    "    dxdt = vx\n",
    "    dydt = vy\n",
    "    \n",
    "    dvxdt = 0 \n",
    "    dvydt = (D - P) / m\n",
    "    \n",
    "    if y <= 0:\n",
    "        dydt = 0\n",
    "        dvydt = 0\n",
    "    dXdt = [dxdt, dydt, dvxdt, dvydt]\n",
    "    \n",
    "    return dXdt\n"
   ]
  },
  {
   "cell_type": "markdown",
   "metadata": {},
   "source": [
    "## Implementando condições iniciais e lista de tempo"
   ]
  },
  {
   "cell_type": "code",
   "execution_count": 98,
   "metadata": {},
   "outputs": [],
   "source": [
    "x_0 = 0\n",
    "y_0 = H\n",
    "vx_0 = 0\n",
    "vy_0 = 0\n",
    "X_0 = [x_0, y_0, vx_0, vy_0]\n",
    "\n",
    "t_final = 2 * 60\n",
    "dt = 0.1\n",
    "lista_t = np.arange(0, t_final, dt)"
   ]
  },
  {
   "cell_type": "markdown",
   "metadata": {},
   "source": [
    "## Rodando odeint"
   ]
  },
  {
   "cell_type": "code",
   "execution_count": 99,
   "metadata": {},
   "outputs": [],
   "source": [
    "Y = odeint(modelo, X_0, lista_t, args=(pa, A_0, Cd))\n",
    "lista_x = Y[:,0]\n",
    "lista_y = Y[:,1]\n",
    "lista_vx = Y[:,2]\n",
    "lista_vy = Y[:,3]\n",
    "lista_vy = -lista_vy"
   ]
  },
  {
   "cell_type": "markdown",
   "metadata": {},
   "source": [
    "## Plotando gráfico de y pelo tempo"
   ]
  },
  {
   "cell_type": "code",
   "execution_count": 100,
   "metadata": {},
   "outputs": [
    {
     "data": {
      "image/png": "[encoded data removed]",
      "text/plain": [
       "<Figure size 432x288 with 1 Axes>"
      ]
     },
     "metadata": {
      "needs_background": "light"
     },
     "output_type": "display_data"
    }
   ],
   "source": [
    "plt.plot(lista_t, lista_vy)\n",
    "plt.xlabel('t')\n",
    "plt.ylabel('vy')\n",
    "plt.grid(True)\n",
    "plt.show()"
   ]
  },
  {
   "cell_type": "code",
   "execution_count": 101,
   "metadata": {},
   "outputs": [
    {
     "data": {
      "image/png": "[encoded data removed]",
      "text/plain": [
       "<Figure size 432x288 with 1 Axes>"
      ]
     },
     "metadata": {
      "needs_background": "light"
     },
     "output_type": "display_data"
    }
   ],
   "source": [
    "plt.plot(lista_t, lista_y)\n",
    "plt.xlabel('t')\n",
    "plt.ylabel('h')\n",
    "plt.grid(True)\n",
    "plt.show()"
   ]
  },
  {
   "cell_type": "markdown",
   "metadata": {},
   "source": [
    "# Segunda iteração: Considere a variação da densidade do ar e a variação do g"
   ]
  },
  {
   "cell_type": "code",
   "execution_count": 102,
   "metadata": {},
   "outputs": [],
   "source": [
    "# Valores constantes\n",
    "RE = 6378 * 1000\n",
    "g_0 = 9.8 # m/s^2\n",
    "H_0 = 38969 # m Altura total do pulo\n",
    "Cd = 0.8 # Pesquisar uma média\n",
    "m = 110 # kg massa média\n",
    "A_0 = 1 # m^2 Áre de queda com a pessoa paralela ao solo\n",
    "A_aux = [1] * 100\n",
    "A_paraquedas = 100 # m^2 Área do paraquedas\n",
    "pa_0 = 1.2 # kg/m^3 Densidade do ar"
   ]
  },
  {
   "cell_type": "code",
   "execution_count": 103,
   "metadata": {},
   "outputs": [],
   "source": [
    "def g(y):\n",
    "    return g_0 / (1 + (y / RE))\n",
    "\n",
    "def pa_f(y, pa_0):\n",
    "    return pa_0 * exp((-y) / 7500)\n",
    "\n",
    "def modelo2(X, t, pa_0, A, Cd):\n",
    "    x = X[0]\n",
    "    y = X[1]\n",
    "    vx = X[2]\n",
    "    vy = X[3]\n",
    "\n",
    "    # condição para abrir o paraquedas \n",
    "    if y <= 2502.6 and len(A_aux) > 1:\n",
    "        A += A_aux[-1]\n",
    "        A_aux[-2] += A_aux[-1]\n",
    "        A_aux.pop(len(A_aux) - 1)\n",
    "        \n",
    "    if y <= 2502.6 and len(A_aux) == 1:\n",
    "        A += A_aux[-1]\n",
    "        \n",
    "    if y > 28000:\n",
    "        A = A * 0.6\n",
    "    \n",
    "    '''if y <= 2500:\n",
    "        A = A_paraquedas'''\n",
    "\n",
    "    P = m * g(y)\n",
    "    D = (1 / 2) * pa_f(y, pa_0) * A * Cd * (vy * vy + vx * vx)\n",
    "    \n",
    "    dxdt = vx\n",
    "    dydt = vy\n",
    "\n",
    "    dvxdt = 0 \n",
    "    dvydt = (D - P) / m\n",
    "    \n",
    "    if y <= 0:\n",
    "        dxdt = 0\n",
    "        dydt = 0\n",
    "\n",
    "        dvxdt = 0 \n",
    "        dvydt = 0\n",
    "\n",
    "    dXdt = [dxdt, dydt, dvxdt, dvydt]\n",
    "    return dXdt"
   ]
  },
  {
   "cell_type": "code",
   "execution_count": 104,
   "metadata": {},
   "outputs": [],
   "source": [
    "x_0 = 0\n",
    "y_0 = H_0\n",
    "vx_0 = 0\n",
    "vy_0 = 0\n",
    "X_0 = [x_0, y_0, vx_0, vy_0]\n",
    "\n",
    "t_final_2 = 520\n",
    "dt_2 = 0.1\n",
    "lista_t_2 = np.arange(0, t_final_2, dt)"
   ]
  },
  {
   "cell_type": "code",
   "execution_count": 105,
   "metadata": {},
   "outputs": [],
   "source": [
    "Y = odeint(modelo2, X_0, lista_t_2, args=(pa_0, A_0, Cd))\n",
    "lista_x_2 = Y[:,0]\n",
    "lista_y_2 = Y[:,1]\n",
    "lista_vx_2 = Y[:,2]\n",
    "lista_vy_2 = -Y[:,3] * 3.6\n",
    "#lista_vy_2 = -lista_vy_2"
   ]
  },
  {
   "cell_type": "code",
   "execution_count": 106,
   "metadata": {},
   "outputs": [
    {
     "data": {
      "image/png": "[encoded data removed]",
      "text/plain": [
       "<Figure size 432x288 with 1 Axes>"
      ]
     },
     "metadata": {
      "needs_background": "light"
     },
     "output_type": "display_data"
    },
    {
     "name": "stdout",
     "output_type": "stream",
     "text": [
      "18.24965415261452\n"
     ]
    }
   ],
   "source": [
    "plt.plot(lista_t_2, lista_vy_2)\n",
    "plt.xlabel('t')\n",
    "plt.ylabel('vy')\n",
    "#plt.axis([-5, 60, -5, 70])\n",
    "plt.grid(True)\n",
    "plt.show()\n",
    "print(lista_vy_2[-1])"
   ]
  },
  {
   "cell_type": "code",
   "execution_count": 107,
   "metadata": {},
   "outputs": [
    {
     "name": "stdout",
     "output_type": "stream",
     "text": [
      "Velocidade maxima: 1346.71 km/h\n",
      "Tempo para atingir velocidade maxima: 49.90 segundos\n"
     ]
    }
   ],
   "source": [
    "v_max = max(lista_vy_2)\n",
    "aux = list(lista_vy_2)\n",
    "i_max = aux.index(v_max)\n",
    "t_para_v_max = lista_t[i_max]\n",
    "print(f'Velocidade maxima: {v_max:.2f} km/h')\n",
    "print(f'Tempo para atingir velocidade maxima: {t_para_v_max:.2f} segundos')"
   ]
  },
  {
   "cell_type": "code",
   "execution_count": 108,
   "metadata": {},
   "outputs": [
    {
     "data": {
      "image/png": "[encoded data removed]",
      "text/plain": [
       "<Figure size 432x288 with 1 Axes>"
      ]
     },
     "metadata": {
      "needs_background": "light"
     },
     "output_type": "display_data"
    }
   ],
   "source": [
    "plt.plot(lista_t_2, lista_y_2)\n",
    "plt.xlabel('t')\n",
    "plt.ylabel('h')\n",
    "plt.grid(True)\n",
    "plt.show()"
   ]
  },
  {
   "cell_type": "markdown",
   "metadata": {},
   "source": [
    "## Validação:"
   ]
  },
  {
   "cell_type": "code",
   "execution_count": 109,
   "metadata": {},
   "outputs": [],
   "source": [
    "# Transformando de tsv para csv\n",
    "with open(\"dados_red_bull.tsv\", 'r', encoding='utf-8') as arquivo1:\n",
    "    conteudo = arquivo1.read()\n",
    "    conteudo = conteudo.replace(\"\\t\", \",\")\n",
    "    #print(conteudo)\n",
    "with open(\"dados_red_bull.csv\", \"w\", encoding=\"utf-8\") as arquivo2:\n",
    "    arquivo2.write(conteudo)"
   ]
  },
  {
   "cell_type": "code",
   "execution_count": 110,
   "metadata": {},
   "outputs": [],
   "source": [
    "colunas = ['t', 'y', 'vy']\n",
    "data = pd.read_csv('dados_red_bull.csv', names=colunas)\n",
    "\n",
    "te = data.t.tolist()\n",
    "ye = data.y.tolist()\n",
    "vye = data.vy.tolist()"
   ]
  },
  {
   "cell_type": "code",
   "execution_count": 111,
   "metadata": {},
   "outputs": [
    {
     "data": {
      "image/png": "[encoded data removed]",
      "text/plain": [
       "<Figure size 1080x216 with 1 Axes>"
      ]
     },
     "metadata": {
      "needs_background": "light"
     },
     "output_type": "display_data"
    },
    {
     "data": {
      "image/png": "[encoded data removed]",
      "text/plain": [
       "<Figure size 1080x216 with 1 Axes>"
      ]
     },
     "metadata": {
      "needs_background": "light"
     },
     "output_type": "display_data"
    }
   ],
   "source": [
    "plt.figure(figsize=(15, 3))\n",
    "plt.plot(lista_t_2, lista_vy_2, label='modelo')\n",
    "plt.plot(te, vye, label='experimento')\n",
    "plt.xlabel('t (s)')\n",
    "plt.ylabel('Velocidade (m/s)')\n",
    "plt.axis([-20, 600, -50, 1500])\n",
    "plt.legend()\n",
    "plt.grid(True)\n",
    "plt.show()\n",
    "\n",
    "plt.figure(figsize=(15, 3))\n",
    "plt.plot(lista_t_2, lista_y_2, label='modelo')\n",
    "plt.plot(te, ye, label='experimento')\n",
    "plt.xlabel('t (s)')\n",
    "plt.ylabel('Altitude (m)')\n",
    "plt.axis([-20, 600, -50, 45000])\n",
    "plt.legend()\n",
    "plt.grid(True)\n",
    "plt.show()"
   ]
  },
  {
   "cell_type": "code",
   "execution_count": 112,
   "metadata": {},
   "outputs": [
    {
     "data": {
      "image/png": "[encoded data removed]",
      "text/plain": [
       "<Figure size 432x288 with 1 Axes>"
      ]
     },
     "metadata": {
      "needs_background": "light"
     },
     "output_type": "display_data"
    },
    {
     "data": {
      "image/png": "[encoded data removed]",
      "text/plain": [
       "<Figure size 432x288 with 1 Axes>"
      ]
     },
     "metadata": {
      "needs_background": "light"
     },
     "output_type": "display_data"
    },
    {
     "data": {
      "image/png": "[encoded data removed]",
      "text/plain": [
       "<Figure size 432x288 with 1 Axes>"
      ]
     },
     "metadata": {
      "needs_background": "light"
     },
     "output_type": "display_data"
    },
    {
     "data": {
      "image/png": "[encoded data removed]",
      "text/plain": [
       "<Figure size 432x288 with 1 Axes>"
      ]
     },
     "metadata": {
      "needs_background": "light"
     },
     "output_type": "display_data"
    }
   ],
   "source": [
    "# Valores constantes\n",
    "RE = 6378 * 1000\n",
    "g_0 = 9.8 # m/s^2\n",
    "#H_0 = 38969 # m Altura total do pulo\n",
    "H_0 = 75000\n",
    "Cd = 0.8 # Pesquisar uma média\n",
    "m = 110 # kg massa média\n",
    "A_0 = 1 # m^2 Áre de queda com a pessoa paralela ao solo\n",
    "A_aux = [1] * 100\n",
    "A_paraquedas = 100 # m^2 Área do paraquedas\n",
    "pa_0 = 1.2 # kg/m^3 Densidade do ar\n",
    "\n",
    "def g(y):\n",
    "    return g_0 / (1 + (y / RE))\n",
    "\n",
    "def pa_f(y, pa_0):\n",
    "    return pa_0 * exp((-y) / 7500)\n",
    "\n",
    "def modelo2(X, t, pa_0, A, Cd):\n",
    "    x = X[0]\n",
    "    y = X[1]\n",
    "    vx = X[2]\n",
    "    vy = X[3]\n",
    "\n",
    "    # condição para abrir o paraquedas \n",
    "    '''if y <= 2502.6 and len(A_aux) > 1:\n",
    "        A += A_aux[-1]\n",
    "        A_aux[-2] += A_aux[-1]\n",
    "        A_aux.pop(len(A_aux) - 1)\n",
    "        \n",
    "    if y <= 2502.6 and len(A_aux) == 1:\n",
    "        A += A_aux[-1]\n",
    "        \n",
    "    if y > 28000:\n",
    "        A = A * 0.6'''\n",
    "    \n",
    "    if y <= 2500:\n",
    "        A = A_paraquedas\n",
    "\n",
    "    P = m * g(y)\n",
    "    D = (1 / 2) * pa_f(y, pa_0) * A * Cd * (vy * vy + vx * vx)\n",
    "    \n",
    "    dxdt = vx\n",
    "    dydt = vy\n",
    "\n",
    "    dvxdt = 0 \n",
    "    dvydt = (D - P) / m\n",
    "    \n",
    "    if y <= 0:\n",
    "        dxdt = 0\n",
    "        dydt = 0\n",
    "\n",
    "        dvxdt = 0 \n",
    "        dvydt = 0\n",
    "\n",
    "    dXdt = [dxdt, dydt, dvxdt, dvydt]\n",
    "    return dXdt\n",
    "\n",
    "x_0 = 0\n",
    "y_0 = H_0\n",
    "vx_0 = 0\n",
    "vy_0 = 0\n",
    "X_0 = [0, H_0, 0, 0]\n",
    "\n",
    "t_final_2 = 520\n",
    "dt_2 = 0.1\n",
    "lista_t_2 = np.arange(0, t_final_2, dt)\n",
    "\n",
    "Y = odeint(modelo2, X_0, lista_t_2, args=(pa_0, A_0, Cd))\n",
    "lista_x_2 = Y[:,0]\n",
    "lista_y_2 = Y[:,1]\n",
    "lista_vx_2 = Y[:,2]\n",
    "lista_vy_2 = -Y[:,3] * 3.6\n",
    "#lista_vy_2 = -lista_vy_2\n",
    "lista_p = Y[:,3] * m # Quantidade de movimento\n",
    "\n",
    "# Lista da forca D\n",
    "forca_D = []\n",
    "A = 1\n",
    "Cd = 0.8\n",
    "for i in range(len(lista_vy_2)):\n",
    "    y = lista_y_2[i]\n",
    "    vy = lista_vy_2[i]\n",
    "    if y <= 2500:\n",
    "        A = A_paraquedas\n",
    "    D = (1 / 2) * pa_f(y, pa_0) * A * Cd * (vy * vy)\n",
    "    forca_D.append(D)\n",
    "\n",
    "trabalho_D = [-forca_D[i + 1] * (lista_y_2[i + 1] - lista_y_2[i]) for i in range(0, len(lista_f) - 1)]\n",
    "trabalho_D.append(trabalho_D[-1])\n",
    "potencia_D = [trabalho_D[i + 1] / (lista_t_2[i + 1] - lista_t_2[i]) for i in range(0, len(lista_f) - 1)]\n",
    "potencia_D.append(potencia_D[-1])\n",
    "\n",
    "plt.plot(lista_t_2, lista_vy_2)\n",
    "plt.xlabel('t')\n",
    "plt.ylabel('vy')\n",
    "#plt.axis([-5, 60, -5, 70])\n",
    "plt.grid(True)\n",
    "plt.show()\n",
    "\n",
    "plt.plot(lista_t_2, forca_D)\n",
    "plt.xlabel('t')\n",
    "plt.ylabel('Forca D (N)')\n",
    "#plt.axis([-5, 60, -5, 70])\n",
    "plt.grid(True)\n",
    "plt.show()\n",
    "\n",
    "plt.plot(lista_t_2, trabalho_D)\n",
    "plt.xlabel('t')\n",
    "plt.ylabel('Trabalho da força D')\n",
    "#plt.axis([-5, 60, -5, 70])\n",
    "plt.grid(True)\n",
    "plt.show()\n",
    "\n",
    "plt.plot(lista_t_2, potencia_D)\n",
    "plt.xlabel('t')\n",
    "plt.ylabel('Potencia do calor dissipado')\n",
    "#plt.axis([-5, 60, -5, 70])\n",
    "plt.grid(True)\n",
    "plt.show()"
   ]
  },
  {
   "cell_type": "code",
   "execution_count": 145,
   "metadata": {},
   "outputs": [
    {
     "data": {
      "image/png": "[encoded data removed]",
      "text/plain": [
       "<Figure size 1080x360 with 1 Axes>"
      ]
     },
     "metadata": {
      "needs_background": "light"
     },
     "output_type": "display_data"
    },
    {
     "data": {
      "image/png": "[encoded data removed]",
      "text/plain": [
       "<Figure size 1080x360 with 1 Axes>"
      ]
     },
     "metadata": {
      "needs_background": "light"
     },
     "output_type": "display_data"
    },
    {
     "data": {
      "image/png": "[encoded data removed]",
      "text/plain": [
       "<Figure size 1080x360 with 1 Axes>"
      ]
     },
     "metadata": {
      "needs_background": "light"
     },
     "output_type": "display_data"
    },
    {
     "data": {
      "image/png": "[encoded data removed]",
      "text/plain": [
       "<Figure size 1080x360 with 1 Axes>"
      ]
     },
     "metadata": {
      "needs_background": "light"
     },
     "output_type": "display_data"
    }
   ],
   "source": [
    "X_0 = [0, H_0, 0, 0]\n",
    "Hs = np.arange(20000, 100001, 10000)\n",
    "gs = np.arange(5, 10.01, 0.5)\n",
    "\n",
    "picos_de_potencia = []\n",
    "picos_de_velocidade = []\n",
    "plt.figure(figsize=(15, 5))\n",
    "for i in range(len(Hs)):\n",
    "    X_0 = [0, Hs[i], 0, 0]\n",
    "    \n",
    "    Y = odeint(modelo2, X_0, lista_t_2, args=(pa_0, A_0, Cd))\n",
    "    lista_x_2 = Y[:,0]\n",
    "    lista_y_2 = Y[:,1]\n",
    "    lista_vx_2 = Y[:,2]\n",
    "    lista_vy_2 = -Y[:,3] * 3.6\n",
    "\n",
    "    # Lista da forca D\n",
    "    forca_D = []\n",
    "    A = 1\n",
    "    Cd = 0.8\n",
    "    for j in range(len(lista_vy_2)):\n",
    "        y = lista_y_2[j]\n",
    "        vy = lista_vy_2[j]\n",
    "        if y <= 2500:\n",
    "            A = A_paraquedas\n",
    "        D = (1 / 2) * pa_f(y, pa_0) * A * Cd * (vy * vy)\n",
    "        forca_D.append(D)\n",
    "        \n",
    "    trabalho_D = [-forca_D[i + 1] * (lista_y_2[i + 1] - lista_y_2[i]) for i in range(0, len(lista_f) - 1)]\n",
    "    trabalho_D.append(trabalho_D[-1])\n",
    "    potencia_D = [trabalho_D[i + 1] / (lista_t_2[i + 1] - lista_t_2[i]) for i in range(0, len(lista_f) - 1)]\n",
    "    potencia_D.append(potencia_D[-1])\n",
    "    max_pot = max(potencia_D[0:1500])\n",
    "    picos_de_potencia.append(max_pot)\n",
    "    picos_de_velocidade.append(max(lista_vy_2[0:1500]))\n",
    "    plt.plot(lista_t_2[0:1500], potencia_D[0:1500], label=f'Altitude = {Hs[i] / 1000} km')\n",
    "    for jj in range(len(potencia_D[0:1500])):\n",
    "        if potencia_D[jj] == max_pot:\n",
    "            t_max_0 = lista_t_2[jj]\n",
    "    plt.plot(t_max_0, picos_de_potencia[-1], 'ro')\n",
    "    \n",
    "plt.xlabel('t (s)')\n",
    "plt.ylabel('Potencia do calor dissipado (W)')\n",
    "plt.legend()\n",
    "plt.grid(True)\n",
    "plt.show()\n",
    "\n",
    "plt.figure(figsize=(15, 5))\n",
    "for i in range(len(Hs)):\n",
    "    X_0 = [0, Hs[i], 0, 0]\n",
    "    Y = odeint(modelo2, X_0, lista_t_2, args=(pa_0, A_0, Cd))\n",
    "    lista_x_2 = Y[:,0]\n",
    "    lista_y_2 = Y[:,1]\n",
    "    lista_vx_2 = Y[:,2]\n",
    "    lista_vy_2 = -Y[:,3] * 3.6\n",
    "    max_v = max(lista_vy_2)\n",
    "    plt.plot(lista_t_2[0:3000], lista_vy_2[0:3000], label=f'Altitude = {Hs[i] / 1000} km')\n",
    "    for j in range(len(lista_t_2)):\n",
    "        if lista_vy_2[j] == max_v:\n",
    "            t_max = lista_t_2[j]\n",
    "    plt.plot(t_max, max_v, 'ro')\n",
    "plt.xlabel('t (s)')\n",
    "plt.ylabel('Velocidade (m/s)')\n",
    "plt.legend()\n",
    "plt.grid(True)\n",
    "plt.show()\n",
    "\n",
    "plt.figure(figsize=(15, 5))\n",
    "plt.plot(Hs, picos_de_potencia, 'bo--')\n",
    "plt.xlabel('Altitude (m)')\n",
    "plt.ylabel('Máxima potencia dissipada (W)')\n",
    "plt.grid(True)\n",
    "plt.show()\n",
    "\n",
    "plt.figure(figsize=(15, 5))\n",
    "plt.plot(Hs, picos_de_velocidade, 'bo--')\n",
    "plt.xlabel('Altitude (m)')\n",
    "plt.ylabel('Máxima velocidade (m/s)')\n",
    "plt.grid(True)\n",
    "plt.show()"
   ]
  },
  {
   "cell_type": "code",
   "execution_count": 147,
   "metadata": {},
   "outputs": [
    {
     "data": {
      "application/vnd.plotly.v1+json": {
       "config": {
        "plotlyServerURL": "https://plot.ly"
       },
       "data": [
        {
         "type": "contour",
         "x": [
          20000,
          30000,
          40000,
          50000,
          60000,
          70000,
          80000,
          90000,
          100000,
          20000,
          30000,
          40000,
          50000,
          60000,
          70000,
          80000,
          90000,
          100000,
          20000,
          30000,
          40000,
          50000,
          60000,
          70000,
          80000,
          90000,
          100000,
          20000,
          30000,
          40000,
          50000,
          60000,
          70000,
          80000,
          90000,
          100000,
          20000,
          30000,
          40000,
          50000,
          60000,
          70000,
          80000,
          90000,
          100000,
          20000,
          30000,
          40000,
          50000,
          60000,
          70000,
          80000,
          90000,
          100000,
          20000,
          30000,
          40000,
          50000,
          60000,
          70000,
          80000,
          90000,
          100000,
          20000,
          30000,
          40000,
          50000,
          60000,
          70000,
          80000,
          90000,
          100000,
          20000,
          30000,
          40000,
          50000,
          60000,
          70000,
          80000,
          90000,
          100000,
          20000,
          30000,
          40000,
          50000,
          60000,
          70000,
          80000,
          90000,
          100000,
          20000,
          30000,
          40000,
          50000,
          60000,
          70000,
          80000,
          90000,
          100000,
          20000,
          30000,
          40000,
          50000,
          60000,
          70000,
          80000,
          90000,
          100000,
          20000,
          30000,
          40000,
          50000,
          60000,
          70000,
          80000,
          90000,
          100000,
          20000,
          30000,
          40000,
          50000,
          60000,
          70000,
          80000,
          90000,
          100000,
          20000,
          30000,
          40000,
          50000,
          60000,
          70000,
          80000,
          90000,
          100000,
          20000,
          30000,
          40000,
          50000,
          60000,
          70000,
          80000,
          90000,
          100000,
          20000,
          30000,
          40000,
          50000,
          60000,
          70000,
          80000,
          90000,
          100000,
          20000,
          30000,
          40000,
          50000,
          60000,
          70000,
          80000,
          90000,
          100000
         ],
         "y": [
          60,
          60,
          60,
          60,
          60,
          60,
          60,
          60,
          60,
          65,
          65,
          65,
          65,
          65,
          65,
          65,
          65,
          65,
          70,
          70,
          70,
          70,
          70,
          70,
          70,
          70,
          70,
          75,
          75,
          75,
          75,
          75,
          75,
          75,
          75,
          75,
          80,
          80,
          80,
          80,
          80,
          80,
          80,
          80,
          80,
          85,
          85,
          85,
          85,
          85,
          85,
          85,
          85,
          85,
          90,
          90,
          90,
          90,
          90,
          90,
          90,
          90,
          90,
          95,
          95,
          95,
          95,
          95,
          95,
          95,
          95,
          95,
          100,
          100,
          100,
          100,
          100,
          100,
          100,
          100,
          100,
          105,
          105,
          105,
          105,
          105,
          105,
          105,
          105,
          105,
          110,
          110,
          110,
          110,
          110,
          110,
          110,
          110,
          110,
          115,
          115,
          115,
          115,
          115,
          115,
          115,
          115,
          115,
          120,
          120,
          120,
          120,
          120,
          120,
          120,
          120,
          120,
          125,
          125,
          125,
          125,
          125,
          125,
          125,
          125,
          125,
          130,
          130,
          130,
          130,
          130,
          130,
          130,
          130,
          130,
          135,
          135,
          135,
          135,
          135,
          135,
          135,
          135,
          135,
          140,
          140,
          140,
          140,
          140,
          140,
          140,
          140,
          140,
          145,
          145,
          145,
          145,
          145,
          145,
          145,
          145,
          145
         ],
         "z": [
          417.20219840822523,
          695.377899347475,
          1054.7615963592482,
          1458.8992641486636,
          1871.1925498169655,
          2269.4480234282933,
          2644.7220124877476,
          2995.4864839615025,
          3323.291413206624,
          431.2483852614621,
          714.981853627571,
          1078.223971638729,
          1483.787809546976,
          1895.7277119979944,
          2292.7726715893245,
          2666.5915270685123,
          3015.927317787831,
          3342.4486976226553,
          444.56302913186477,
          733.397895384549,
          1100.0825482476002,
          1506.851013695681,
          1918.391842160476,
          2314.292138089218,
          2686.7568111971777,
          3034.7843641938816,
          3360.1197964896837,
          457.2274964398069,
          750.7652078987347,
          1120.5454912465136,
          1528.3314343664224,
          1939.4507167723154,
          2334.2627158258165,
          2705.467068013288,
          3052.279734961857,
          3376.5202934424424,
          469.3086645023755,
          767.2025185501294,
          1139.779044624966,
          1548.4331082099295,
          1959.1075420219463,
          2352.8836789524,
          2722.9092099274344,
          3068.588918428854,
          3391.812531160213,
          480.86413399182845,
          782.8063718303445,
          1157.9236429067728,
          1567.316952585536,
          1977.5328025085075,
          2370.330727720962,
          2739.2437810634733,
          3083.8628428233874,
          3406.1364344285826,
          491.9414176233088,
          797.6626757587768,
          1175.0940868845262,
          1585.1242049753396,
          1994.876372722587,
          2386.7317075040883,
          2754.5980648010714,
          3098.2233006274805,
          3419.5995491402027,
          502.5837235675013,
          811.8398147574301,
          1191.3928756594596,
          1601.9644146948574,
          2011.248783861614,
          2402.205958627375,
          2769.080336814468,
          3111.7657071777276,
          3432.3118105023977,
          512.8256412291595,
          825.3994043798142,
          1206.9018378808717,
          1617.9377909812345,
          2026.7524777296155,
          2416.849641141811,
          2782.784758854778,
          3124.5873285593966,
          3444.33820011552,
          522.699907808733,
          838.3938548420183,
          1221.6931141012792,
          1633.1281129453394,
          2041.4716877258527,
          2430.7435861509216,
          2795.7867052739884,
          3136.7499331946933,
          3455.7513679665026,
          532.2334793435685,
          850.8721547259508,
          1235.8327734478635,
          1647.605218224299,
          2055.485631735535,
          2443.9650715815633,
          2808.1570618791334,
          3148.3198822574727,
          3466.6105909572916,
          541.4516440959957,
          862.8709286844667,
          1249.3728585606204,
          1661.4355602139206,
          2068.8493773122286,
          2456.5701829346435,
          2819.948992436181,
          3159.3518559221197,
          3476.964400451121,
          550.376552679951,
          874.4308121643973,
          1262.3633629499102,
          1674.6684573176144,
          2081.628681250049,
          2468.6128477464144,
          2831.2138927876913,
          3169.8915693771687,
          3486.8553490112395,
          559.0277735231574,
          885.5806733276629,
          1274.845232353427,
          1687.3587330784792,
          2093.865251526706,
          2480.1408937040947,
          2841.994926388362,
          3179.9767095902034,
          3496.332185720099,
          567.4226163772997,
          896.3496923132832,
          1286.8577561745485,
          1699.5444524227264,
          2105.6030809071644,
          2491.1952084606046,
          2852.33402400534,
          3189.6553571808313,
          3505.4133879958404,
          575.5764334362777,
          906.7635130862242,
          1298.435316835798,
          1711.2634389672712,
          2116.8799557389452,
          2501.8102432600504,
          2862.265855548592,
          3198.9437054101636,
          3514.141480506987,
          583.505209872389,
          916.8449122955582,
          1309.607967760289,
          1722.5491431363057,
          2127.7320429280635,
          2512.024866668291,
          2871.813590527202,
          3207.8861712567036,
          3522.538488563698,
          591.2205652383234,
          926.6165465775913,
          1320.4022428511469,
          1733.4360584634633,
          2138.1903684364747,
          2521.8618798970765,
          2881.0154237315314,
          3216.495542823774,
          3530.625899612476
         ]
        }
       ],
       "layout": {
        "template": {
         "data": {
          "bar": [
           {
            "error_x": {
             "color": "#2a3f5f"
            },
            "error_y": {
             "color": "#2a3f5f"
            },
            "marker": {
             "line": {
              "color": "#E5ECF6",
              "width": 0.5
             }
            },
            "type": "bar"
           }
          ],
          "barpolar": [
           {
            "marker": {
             "line": {
              "color": "#E5ECF6",
              "width": 0.5
             }
            },
            "type": "barpolar"
           }
          ],
          "carpet": [
           {
            "aaxis": {
             "endlinecolor": "#2a3f5f",
             "gridcolor": "white",
             "linecolor": "white",
             "minorgridcolor": "white",
             "startlinecolor": "#2a3f5f"
            },
            "baxis": {
             "endlinecolor": "#2a3f5f",
             "gridcolor": "white",
             "linecolor": "white",
             "minorgridcolor": "white",
             "startlinecolor": "#2a3f5f"
            },
            "type": "carpet"
           }
          ],
          "choropleth": [
           {
            "colorbar": {
             "outlinewidth": 0,
             "ticks": ""
            },
            "type": "choropleth"
           }
          ],
          "contour": [
           {
            "colorbar": {
             "outlinewidth": 0,
             "ticks": ""
            },
            "colorscale": [
             [
              0,
              "#0d0887"
             ],
             [
              0.1111111111111111,
              "#46039f"
             ],
             [
              0.2222222222222222,
              "#7201a8"
             ],
             [
              0.3333333333333333,
              "#9c179e"
             ],
             [
              0.4444444444444444,
              "#bd3786"
             ],
             [
              0.5555555555555556,
              "#d8576b"
             ],
             [
              0.6666666666666666,
              "#ed7953"
             ],
             [
              0.7777777777777778,
              "#fb9f3a"
             ],
             [
              0.8888888888888888,
              "#fdca26"
             ],
             [
              1,
              "#f0f921"
             ]
            ],
            "type": "contour"
           }
          ],
          "contourcarpet": [
           {
            "colorbar": {
             "outlinewidth": 0,
             "ticks": ""
            },
            "type": "contourcarpet"
           }
          ],
          "heatmap": [
           {
            "colorbar": {
             "outlinewidth": 0,
             "ticks": ""
            },
            "colorscale": [
             [
              0,
              "#0d0887"
             ],
             [
              0.1111111111111111,
              "#46039f"
             ],
             [
              0.2222222222222222,
              "#7201a8"
             ],
             [
              0.3333333333333333,
              "#9c179e"
             ],
             [
              0.4444444444444444,
              "#bd3786"
             ],
             [
              0.5555555555555556,
              "#d8576b"
             ],
             [
              0.6666666666666666,
              "#ed7953"
             ],
             [
              0.7777777777777778,
              "#fb9f3a"
             ],
             [
              0.8888888888888888,
              "#fdca26"
             ],
             [
              1,
              "#f0f921"
             ]
            ],
            "type": "heatmap"
           }
          ],
          "heatmapgl": [
           {
            "colorbar": {
             "outlinewidth": 0,
             "ticks": ""
            },
            "colorscale": [
             [
              0,
              "#0d0887"
             ],
             [
              0.1111111111111111,
              "#46039f"
             ],
             [
              0.2222222222222222,
              "#7201a8"
             ],
             [
              0.3333333333333333,
              "#9c179e"
             ],
             [
              0.4444444444444444,
              "#bd3786"
             ],
             [
              0.5555555555555556,
              "#d8576b"
             ],
             [
              0.6666666666666666,
              "#ed7953"
             ],
             [
              0.7777777777777778,
              "#fb9f3a"
             ],
             [
              0.8888888888888888,
              "#fdca26"
             ],
             [
              1,
              "#f0f921"
             ]
            ],
            "type": "heatmapgl"
           }
          ],
          "histogram": [
           {
            "marker": {
             "colorbar": {
              "outlinewidth": 0,
              "ticks": ""
             }
            },
            "type": "histogram"
           }
          ],
          "histogram2d": [
           {
            "colorbar": {
             "outlinewidth": 0,
             "ticks": ""
            },
            "colorscale": [
             [
              0,
              "#0d0887"
             ],
             [
              0.1111111111111111,
              "#46039f"
             ],
             [
              0.2222222222222222,
              "#7201a8"
             ],
             [
              0.3333333333333333,
              "#9c179e"
             ],
             [
              0.4444444444444444,
              "#bd3786"
             ],
             [
              0.5555555555555556,
              "#d8576b"
             ],
             [
              0.6666666666666666,
              "#ed7953"
             ],
             [
              0.7777777777777778,
              "#fb9f3a"
             ],
             [
              0.8888888888888888,
              "#fdca26"
             ],
             [
              1,
              "#f0f921"
             ]
            ],
            "type": "histogram2d"
           }
          ],
          "histogram2dcontour": [
           {
            "colorbar": {
             "outlinewidth": 0,
             "ticks": ""
            },
            "colorscale": [
             [
              0,
              "#0d0887"
             ],
             [
              0.1111111111111111,
              "#46039f"
             ],
             [
              0.2222222222222222,
              "#7201a8"
             ],
             [
              0.3333333333333333,
              "#9c179e"
             ],
             [
              0.4444444444444444,
              "#bd3786"
             ],
             [
              0.5555555555555556,
              "#d8576b"
             ],
             [
              0.6666666666666666,
              "#ed7953"
             ],
             [
              0.7777777777777778,
              "#fb9f3a"
             ],
             [
              0.8888888888888888,
              "#fdca26"
             ],
             [
              1,
              "#f0f921"
             ]
            ],
            "type": "histogram2dcontour"
           }
          ],
          "mesh3d": [
           {
            "colorbar": {
             "outlinewidth": 0,
             "ticks": ""
            },
            "type": "mesh3d"
           }
          ],
          "parcoords": [
           {
            "line": {
             "colorbar": {
              "outlinewidth": 0,
              "ticks": ""
             }
            },
            "type": "parcoords"
           }
          ],
          "pie": [
           {
            "automargin": true,
            "type": "pie"
           }
          ],
          "scatter": [
           {
            "marker": {
             "colorbar": {
              "outlinewidth": 0,
              "ticks": ""
             }
            },
            "type": "scatter"
           }
          ],
          "scatter3d": [
           {
            "line": {
             "colorbar": {
              "outlinewidth": 0,
              "ticks": ""
             }
            },
            "marker": {
             "colorbar": {
              "outlinewidth": 0,
              "ticks": ""
             }
            },
            "type": "scatter3d"
           }
          ],
          "scattercarpet": [
           {
            "marker": {
             "colorbar": {
              "outlinewidth": 0,
              "ticks": ""
             }
            },
            "type": "scattercarpet"
           }
          ],
          "scattergeo": [
           {
            "marker": {
             "colorbar": {
              "outlinewidth": 0,
              "ticks": ""
             }
            },
            "type": "scattergeo"
           }
          ],
          "scattergl": [
           {
            "marker": {
             "colorbar": {
              "outlinewidth": 0,
              "ticks": ""
             }
            },
            "type": "scattergl"
           }
          ],
          "scattermapbox": [
           {
            "marker": {
             "colorbar": {
              "outlinewidth": 0,
              "ticks": ""
             }
            },
            "type": "scattermapbox"
           }
          ],
          "scatterpolar": [
           {
            "marker": {
             "colorbar": {
              "outlinewidth": 0,
              "ticks": ""
             }
            },
            "type": "scatterpolar"
           }
          ],
          "scatterpolargl": [
           {
            "marker": {
             "colorbar": {
              "outlinewidth": 0,
              "ticks": ""
             }
            },
            "type": "scatterpolargl"
           }
          ],
          "scatterternary": [
           {
            "marker": {
             "colorbar": {
              "outlinewidth": 0,
              "ticks": ""
             }
            },
            "type": "scatterternary"
           }
          ],
          "surface": [
           {
            "colorbar": {
             "outlinewidth": 0,
             "ticks": ""
            },
            "colorscale": [
             [
              0,
              "#0d0887"
             ],
             [
              0.1111111111111111,
              "#46039f"
             ],
             [
              0.2222222222222222,
              "#7201a8"
             ],
             [
              0.3333333333333333,
              "#9c179e"
             ],
             [
              0.4444444444444444,
              "#bd3786"
             ],
             [
              0.5555555555555556,
              "#d8576b"
             ],
             [
              0.6666666666666666,
              "#ed7953"
             ],
             [
              0.7777777777777778,
              "#fb9f3a"
             ],
             [
              0.8888888888888888,
              "#fdca26"
             ],
             [
              1,
              "#f0f921"
             ]
            ],
            "type": "surface"
           }
          ],
          "table": [
           {
            "cells": {
             "fill": {
              "color": "#EBF0F8"
             },
             "line": {
              "color": "white"
             }
            },
            "header": {
             "fill": {
              "color": "#C8D4E3"
             },
             "line": {
              "color": "white"
             }
            },
            "type": "table"
           }
          ]
         },
         "layout": {
          "annotationdefaults": {
           "arrowcolor": "#2a3f5f",
           "arrowhead": 0,
           "arrowwidth": 1
          },
          "autotypenumbers": "strict",
          "coloraxis": {
           "colorbar": {
            "outlinewidth": 0,
            "ticks": ""
           }
          },
          "colorscale": {
           "diverging": [
            [
             0,
             "#8e0152"
            ],
            [
             0.1,
             "#c51b7d"
            ],
            [
             0.2,
             "#de77ae"
            ],
            [
             0.3,
             "#f1b6da"
            ],
            [
             0.4,
             "#fde0ef"
            ],
            [
             0.5,
             "#f7f7f7"
            ],
            [
             0.6,
             "#e6f5d0"
            ],
            [
             0.7,
             "#b8e186"
            ],
            [
             0.8,
             "#7fbc41"
            ],
            [
             0.9,
             "#4d9221"
            ],
            [
             1,
             "#276419"
            ]
           ],
           "sequential": [
            [
             0,
             "#0d0887"
            ],
            [
             0.1111111111111111,
             "#46039f"
            ],
            [
             0.2222222222222222,
             "#7201a8"
            ],
            [
             0.3333333333333333,
             "#9c179e"
            ],
            [
             0.4444444444444444,
             "#bd3786"
            ],
            [
             0.5555555555555556,
             "#d8576b"
            ],
            [
             0.6666666666666666,
             "#ed7953"
            ],
            [
             0.7777777777777778,
             "#fb9f3a"
            ],
            [
             0.8888888888888888,
             "#fdca26"
            ],
            [
             1,
             "#f0f921"
            ]
           ],
           "sequentialminus": [
            [
             0,
             "#0d0887"
            ],
            [
             0.1111111111111111,
             "#46039f"
            ],
            [
             0.2222222222222222,
             "#7201a8"
            ],
            [
             0.3333333333333333,
             "#9c179e"
            ],
            [
             0.4444444444444444,
             "#bd3786"
            ],
            [
             0.5555555555555556,
             "#d8576b"
            ],
            [
             0.6666666666666666,
             "#ed7953"
            ],
            [
             0.7777777777777778,
             "#fb9f3a"
            ],
            [
             0.8888888888888888,
             "#fdca26"
            ],
            [
             1,
             "#f0f921"
            ]
           ]
          },
          "colorway": [
           "#636efa",
           "#EF553B",
           "#00cc96",
           "#ab63fa",
           "#FFA15A",
           "#19d3f3",
           "#FF6692",
           "#B6E880",
           "#FF97FF",
           "#FECB52"
          ],
          "font": {
           "color": "#2a3f5f"
          },
          "geo": {
           "bgcolor": "white",
           "lakecolor": "white",
           "landcolor": "#E5ECF6",
           "showlakes": true,
           "showland": true,
           "subunitcolor": "white"
          },
          "hoverlabel": {
           "align": "left"
          },
          "hovermode": "closest",
          "mapbox": {
           "style": "light"
          },
          "paper_bgcolor": "white",
          "plot_bgcolor": "#E5ECF6",
          "polar": {
           "angularaxis": {
            "gridcolor": "white",
            "linecolor": "white",
            "ticks": ""
           },
           "bgcolor": "#E5ECF6",
           "radialaxis": {
            "gridcolor": "white",
            "linecolor": "white",
            "ticks": ""
           }
          },
          "scene": {
           "xaxis": {
            "backgroundcolor": "#E5ECF6",
            "gridcolor": "white",
            "gridwidth": 2,
            "linecolor": "white",
            "showbackground": true,
            "ticks": "",
            "zerolinecolor": "white"
           },
           "yaxis": {
            "backgroundcolor": "#E5ECF6",
            "gridcolor": "white",
            "gridwidth": 2,
            "linecolor": "white",
            "showbackground": true,
            "ticks": "",
            "zerolinecolor": "white"
           },
           "zaxis": {
            "backgroundcolor": "#E5ECF6",
            "gridcolor": "white",
            "gridwidth": 2,
            "linecolor": "white",
            "showbackground": true,
            "ticks": "",
            "zerolinecolor": "white"
           }
          },
          "shapedefaults": {
           "line": {
            "color": "#2a3f5f"
           }
          },
          "ternary": {
           "aaxis": {
            "gridcolor": "white",
            "linecolor": "white",
            "ticks": ""
           },
           "baxis": {
            "gridcolor": "white",
            "linecolor": "white",
            "ticks": ""
           },
           "bgcolor": "#E5ECF6",
           "caxis": {
            "gridcolor": "white",
            "linecolor": "white",
            "ticks": ""
           }
          },
          "title": {
           "x": 0.05
          },
          "xaxis": {
           "automargin": true,
           "gridcolor": "white",
           "linecolor": "white",
           "ticks": "",
           "title": {
            "standoff": 15
           },
           "zerolinecolor": "white",
           "zerolinewidth": 2
          },
          "yaxis": {
           "automargin": true,
           "gridcolor": "white",
           "linecolor": "white",
           "ticks": "",
           "title": {
            "standoff": 15
           },
           "zerolinecolor": "white",
           "zerolinewidth": 2
          }
         }
        },
        "title": {
         "text": "Máxima velocidade"
        },
        "xaxis": {
         "title": {
          "text": "Altitude (m)"
         }
        },
        "yaxis": {
         "title": {
          "text": "m (kg)"
         }
        }
       }
      },
      "text/html": [
       "<div>                            <div id=\"c740d1df-7381-47c7-b028-50f5859f4786\" class=\"plotly-graph-div\" style=\"height:525px; width:100%;\"></div>            <script type=\"text/javascript\">                require([\"plotly\"], function(Plotly) {                    window.PLOTLYENV=window.PLOTLYENV || {};                                    if (document.getElementById(\"c740d1df-7381-47c7-b028-50f5859f4786\")) {                    Plotly.newPlot(                        \"c740d1df-7381-47c7-b028-50f5859f4786\",                        [{\"type\": \"contour\", \"x\": [20000, 30000, 40000, 50000, 60000, 70000, 80000, 90000, 100000, 20000, 30000, 40000, 50000, 60000, 70000, 80000, 90000, 100000, 20000, 30000, 40000, 50000, 60000, 70000, 80000, 90000, 100000, 20000, 30000, 40000, 50000, 60000, 70000, 80000, 90000, 100000, 20000, 30000, 40000, 50000, 60000, 70000, 80000, 90000, 100000, 20000, 30000, 40000, 50000, 60000, 70000, 80000, 90000, 100000, 20000, 30000, 40000, 50000, 60000, 70000, 80000, 90000, 100000, 20000, 30000, 40000, 50000, 60000, 70000, 80000, 90000, 100000, 20000, 30000, 40000, 50000, 60000, 70000, 80000, 90000, 100000, 20000, 30000, 40000, 50000, 60000, 70000, 80000, 90000, 100000, 20000, 30000, 40000, 50000, 60000, 70000, 80000, 90000, 100000, 20000, 30000, 40000, 50000, 60000, 70000, 80000, 90000, 100000, 20000, 30000, 40000, 50000, 60000, 70000, 80000, 90000, 100000, 20000, 30000, 40000, 50000, 60000, 70000, 80000, 90000, 100000, 20000, 30000, 40000, 50000, 60000, 70000, 80000, 90000, 100000, 20000, 30000, 40000, 50000, 60000, 70000, 80000, 90000, 100000, 20000, 30000, 40000, 50000, 60000, 70000, 80000, 90000, 100000, 20000, 30000, 40000, 50000, 60000, 70000, 80000, 90000, 100000], \"y\": [60, 60, 60, 60, 60, 60, 60, 60, 60, 65, 65, 65, 65, 65, 65, 65, 65, 65, 70, 70, 70, 70, 70, 70, 70, 70, 70, 75, 75, 75, 75, 75, 75, 75, 75, 75, 80, 80, 80, 80, 80, 80, 80, 80, 80, 85, 85, 85, 85, 85, 85, 85, 85, 85, 90, 90, 90, 90, 90, 90, 90, 90, 90, 95, 95, 95, 95, 95, 95, 95, 95, 95, 100, 100, 100, 100, 100, 100, 100, 100, 100, 105, 105, 105, 105, 105, 105, 105, 105, 105, 110, 110, 110, 110, 110, 110, 110, 110, 110, 115, 115, 115, 115, 115, 115, 115, 115, 115, 120, 120, 120, 120, 120, 120, 120, 120, 120, 125, 125, 125, 125, 125, 125, 125, 125, 125, 130, 130, 130, 130, 130, 130, 130, 130, 130, 135, 135, 135, 135, 135, 135, 135, 135, 135, 140, 140, 140, 140, 140, 140, 140, 140, 140, 145, 145, 145, 145, 145, 145, 145, 145, 145], \"z\": [417.20219840822523, 695.377899347475, 1054.7615963592482, 1458.8992641486636, 1871.1925498169655, 2269.4480234282933, 2644.7220124877476, 2995.4864839615025, 3323.291413206624, 431.2483852614621, 714.981853627571, 1078.223971638729, 1483.787809546976, 1895.7277119979944, 2292.7726715893245, 2666.5915270685123, 3015.927317787831, 3342.4486976226553, 444.56302913186477, 733.397895384549, 1100.0825482476002, 1506.851013695681, 1918.391842160476, 2314.292138089218, 2686.7568111971777, 3034.7843641938816, 3360.1197964896837, 457.2274964398069, 750.7652078987347, 1120.5454912465136, 1528.3314343664224, 1939.4507167723154, 2334.2627158258165, 2705.467068013288, 3052.279734961857, 3376.5202934424424, 469.3086645023755, 767.2025185501294, 1139.779044624966, 1548.4331082099295, 1959.1075420219463, 2352.8836789524, 2722.9092099274344, 3068.588918428854, 3391.812531160213, 480.86413399182845, 782.8063718303445, 1157.9236429067728, 1567.316952585536, 1977.5328025085075, 2370.330727720962, 2739.2437810634733, 3083.8628428233874, 3406.1364344285826, 491.9414176233088, 797.6626757587768, 1175.0940868845262, 1585.1242049753396, 1994.876372722587, 2386.7317075040883, 2754.5980648010714, 3098.2233006274805, 3419.5995491402027, 502.5837235675013, 811.8398147574301, 1191.3928756594596, 1601.9644146948574, 2011.248783861614, 2402.205958627375, 2769.080336814468, 3111.7657071777276, 3432.3118105023977, 512.8256412291595, 825.3994043798142, 1206.9018378808717, 1617.9377909812345, 2026.7524777296155, 2416.849641141811, 2782.784758854778, 3124.5873285593966, 3444.33820011552, 522.699907808733, 838.3938548420183, 1221.6931141012792, 1633.1281129453394, 2041.4716877258527, 2430.7435861509216, 2795.7867052739884, 3136.7499331946933, 3455.7513679665026, 532.2334793435685, 850.8721547259508, 1235.8327734478635, 1647.605218224299, 2055.485631735535, 2443.9650715815633, 2808.1570618791334, 3148.3198822574727, 3466.6105909572916, 541.4516440959957, 862.8709286844667, 1249.3728585606204, 1661.4355602139206, 2068.8493773122286, 2456.5701829346435, 2819.948992436181, 3159.3518559221197, 3476.964400451121, 550.376552679951, 874.4308121643973, 1262.3633629499102, 1674.6684573176144, 2081.628681250049, 2468.6128477464144, 2831.2138927876913, 3169.8915693771687, 3486.8553490112395, 559.0277735231574, 885.5806733276629, 1274.845232353427, 1687.3587330784792, 2093.865251526706, 2480.1408937040947, 2841.994926388362, 3179.9767095902034, 3496.332185720099, 567.4226163772997, 896.3496923132832, 1286.8577561745485, 1699.5444524227264, 2105.6030809071644, 2491.1952084606046, 2852.33402400534, 3189.6553571808313, 3505.4133879958404, 575.5764334362777, 906.7635130862242, 1298.435316835798, 1711.2634389672712, 2116.8799557389452, 2501.8102432600504, 2862.265855548592, 3198.9437054101636, 3514.141480506987, 583.505209872389, 916.8449122955582, 1309.607967760289, 1722.5491431363057, 2127.7320429280635, 2512.024866668291, 2871.813590527202, 3207.8861712567036, 3522.538488563698, 591.2205652383234, 926.6165465775913, 1320.4022428511469, 1733.4360584634633, 2138.1903684364747, 2521.8618798970765, 2881.0154237315314, 3216.495542823774, 3530.625899612476]}],                        {\"template\": {\"data\": {\"bar\": [{\"error_x\": {\"color\": \"#2a3f5f\"}, \"error_y\": {\"color\": \"#2a3f5f\"}, \"marker\": {\"line\": {\"color\": \"#E5ECF6\", \"width\": 0.5}}, \"type\": \"bar\"}], \"barpolar\": [{\"marker\": {\"line\": {\"color\": \"#E5ECF6\", \"width\": 0.5}}, \"type\": \"barpolar\"}], \"carpet\": [{\"aaxis\": {\"endlinecolor\": \"#2a3f5f\", \"gridcolor\": \"white\", \"linecolor\": \"white\", \"minorgridcolor\": \"white\", \"startlinecolor\": \"#2a3f5f\"}, \"baxis\": {\"endlinecolor\": \"#2a3f5f\", \"gridcolor\": \"white\", \"linecolor\": \"white\", \"minorgridcolor\": \"white\", \"startlinecolor\": \"#2a3f5f\"}, \"type\": \"carpet\"}], \"choropleth\": [{\"colorbar\": {\"outlinewidth\": 0, \"ticks\": \"\"}, \"type\": \"choropleth\"}], \"contour\": [{\"colorbar\": {\"outlinewidth\": 0, \"ticks\": \"\"}, \"colorscale\": [[0.0, \"#0d0887\"], [0.1111111111111111, \"#46039f\"], [0.2222222222222222, \"#7201a8\"], [0.3333333333333333, \"#9c179e\"], [0.4444444444444444, \"#bd3786\"], [0.5555555555555556, \"#d8576b\"], [0.6666666666666666, \"#ed7953\"], [0.7777777777777778, \"#fb9f3a\"], [0.8888888888888888, \"#fdca26\"], [1.0, \"#f0f921\"]], \"type\": \"contour\"}], \"contourcarpet\": [{\"colorbar\": {\"outlinewidth\": 0, \"ticks\": \"\"}, \"type\": \"contourcarpet\"}], \"heatmap\": [{\"colorbar\": {\"outlinewidth\": 0, \"ticks\": \"\"}, \"colorscale\": [[0.0, \"#0d0887\"], [0.1111111111111111, \"#46039f\"], [0.2222222222222222, \"#7201a8\"], [0.3333333333333333, \"#9c179e\"], [0.4444444444444444, \"#bd3786\"], [0.5555555555555556, \"#d8576b\"], [0.6666666666666666, \"#ed7953\"], [0.7777777777777778, \"#fb9f3a\"], [0.8888888888888888, \"#fdca26\"], [1.0, \"#f0f921\"]], \"type\": \"heatmap\"}], \"heatmapgl\": [{\"colorbar\": {\"outlinewidth\": 0, \"ticks\": \"\"}, \"colorscale\": [[0.0, \"#0d0887\"], [0.1111111111111111, \"#46039f\"], [0.2222222222222222, \"#7201a8\"], [0.3333333333333333, \"#9c179e\"], [0.4444444444444444, \"#bd3786\"], [0.5555555555555556, \"#d8576b\"], [0.6666666666666666, \"#ed7953\"], [0.7777777777777778, \"#fb9f3a\"], [0.8888888888888888, \"#fdca26\"], [1.0, \"#f0f921\"]], \"type\": \"heatmapgl\"}], \"histogram\": [{\"marker\": {\"colorbar\": {\"outlinewidth\": 0, \"ticks\": \"\"}}, \"type\": \"histogram\"}], \"histogram2d\": [{\"colorbar\": {\"outlinewidth\": 0, \"ticks\": \"\"}, \"colorscale\": [[0.0, \"#0d0887\"], [0.1111111111111111, \"#46039f\"], [0.2222222222222222, \"#7201a8\"], [0.3333333333333333, \"#9c179e\"], [0.4444444444444444, \"#bd3786\"], [0.5555555555555556, \"#d8576b\"], [0.6666666666666666, \"#ed7953\"], [0.7777777777777778, \"#fb9f3a\"], [0.8888888888888888, \"#fdca26\"], [1.0, \"#f0f921\"]], \"type\": \"histogram2d\"}], \"histogram2dcontour\": [{\"colorbar\": {\"outlinewidth\": 0, \"ticks\": \"\"}, \"colorscale\": [[0.0, \"#0d0887\"], [0.1111111111111111, \"#46039f\"], [0.2222222222222222, \"#7201a8\"], [0.3333333333333333, \"#9c179e\"], [0.4444444444444444, \"#bd3786\"], [0.5555555555555556, \"#d8576b\"], [0.6666666666666666, \"#ed7953\"], [0.7777777777777778, \"#fb9f3a\"], [0.8888888888888888, \"#fdca26\"], [1.0, \"#f0f921\"]], \"type\": \"histogram2dcontour\"}], \"mesh3d\": [{\"colorbar\": {\"outlinewidth\": 0, \"ticks\": \"\"}, \"type\": \"mesh3d\"}], \"parcoords\": [{\"line\": {\"colorbar\": {\"outlinewidth\": 0, \"ticks\": \"\"}}, \"type\": \"parcoords\"}], \"pie\": [{\"automargin\": true, \"type\": \"pie\"}], \"scatter\": [{\"marker\": {\"colorbar\": {\"outlinewidth\": 0, \"ticks\": \"\"}}, \"type\": \"scatter\"}], \"scatter3d\": [{\"line\": {\"colorbar\": {\"outlinewidth\": 0, \"ticks\": \"\"}}, \"marker\": {\"colorbar\": {\"outlinewidth\": 0, \"ticks\": \"\"}}, \"type\": \"scatter3d\"}], \"scattercarpet\": [{\"marker\": {\"colorbar\": {\"outlinewidth\": 0, \"ticks\": \"\"}}, \"type\": \"scattercarpet\"}], \"scattergeo\": [{\"marker\": {\"colorbar\": {\"outlinewidth\": 0, \"ticks\": \"\"}}, \"type\": \"scattergeo\"}], \"scattergl\": [{\"marker\": {\"colorbar\": {\"outlinewidth\": 0, \"ticks\": \"\"}}, \"type\": \"scattergl\"}], \"scattermapbox\": [{\"marker\": {\"colorbar\": {\"outlinewidth\": 0, \"ticks\": \"\"}}, \"type\": \"scattermapbox\"}], \"scatterpolar\": [{\"marker\": {\"colorbar\": {\"outlinewidth\": 0, \"ticks\": \"\"}}, \"type\": \"scatterpolar\"}], \"scatterpolargl\": [{\"marker\": {\"colorbar\": {\"outlinewidth\": 0, \"ticks\": \"\"}}, \"type\": \"scatterpolargl\"}], \"scatterternary\": [{\"marker\": {\"colorbar\": {\"outlinewidth\": 0, \"ticks\": \"\"}}, \"type\": \"scatterternary\"}], \"surface\": [{\"colorbar\": {\"outlinewidth\": 0, \"ticks\": \"\"}, \"colorscale\": [[0.0, \"#0d0887\"], [0.1111111111111111, \"#46039f\"], [0.2222222222222222, \"#7201a8\"], [0.3333333333333333, \"#9c179e\"], [0.4444444444444444, \"#bd3786\"], [0.5555555555555556, \"#d8576b\"], [0.6666666666666666, \"#ed7953\"], [0.7777777777777778, \"#fb9f3a\"], [0.8888888888888888, \"#fdca26\"], [1.0, \"#f0f921\"]], \"type\": \"surface\"}], \"table\": [{\"cells\": {\"fill\": {\"color\": \"#EBF0F8\"}, \"line\": {\"color\": \"white\"}}, \"header\": {\"fill\": {\"color\": \"#C8D4E3\"}, \"line\": {\"color\": \"white\"}}, \"type\": \"table\"}]}, \"layout\": {\"annotationdefaults\": {\"arrowcolor\": \"#2a3f5f\", \"arrowhead\": 0, \"arrowwidth\": 1}, \"autotypenumbers\": \"strict\", \"coloraxis\": {\"colorbar\": {\"outlinewidth\": 0, \"ticks\": \"\"}}, \"colorscale\": {\"diverging\": [[0, \"#8e0152\"], [0.1, \"#c51b7d\"], [0.2, \"#de77ae\"], [0.3, \"#f1b6da\"], [0.4, \"#fde0ef\"], [0.5, \"#f7f7f7\"], [0.6, \"#e6f5d0\"], [0.7, \"#b8e186\"], [0.8, \"#7fbc41\"], [0.9, \"#4d9221\"], [1, \"#276419\"]], \"sequential\": [[0.0, \"#0d0887\"], [0.1111111111111111, \"#46039f\"], [0.2222222222222222, \"#7201a8\"], [0.3333333333333333, \"#9c179e\"], [0.4444444444444444, \"#bd3786\"], [0.5555555555555556, \"#d8576b\"], [0.6666666666666666, \"#ed7953\"], [0.7777777777777778, \"#fb9f3a\"], [0.8888888888888888, \"#fdca26\"], [1.0, \"#f0f921\"]], \"sequentialminus\": [[0.0, \"#0d0887\"], [0.1111111111111111, \"#46039f\"], [0.2222222222222222, \"#7201a8\"], [0.3333333333333333, \"#9c179e\"], [0.4444444444444444, \"#bd3786\"], [0.5555555555555556, \"#d8576b\"], [0.6666666666666666, \"#ed7953\"], [0.7777777777777778, \"#fb9f3a\"], [0.8888888888888888, \"#fdca26\"], [1.0, \"#f0f921\"]]}, \"colorway\": [\"#636efa\", \"#EF553B\", \"#00cc96\", \"#ab63fa\", \"#FFA15A\", \"#19d3f3\", \"#FF6692\", \"#B6E880\", \"#FF97FF\", \"#FECB52\"], \"font\": {\"color\": \"#2a3f5f\"}, \"geo\": {\"bgcolor\": \"white\", \"lakecolor\": \"white\", \"landcolor\": \"#E5ECF6\", \"showlakes\": true, \"showland\": true, \"subunitcolor\": \"white\"}, \"hoverlabel\": {\"align\": \"left\"}, \"hovermode\": \"closest\", \"mapbox\": {\"style\": \"light\"}, \"paper_bgcolor\": \"white\", \"plot_bgcolor\": \"#E5ECF6\", \"polar\": {\"angularaxis\": {\"gridcolor\": \"white\", \"linecolor\": \"white\", \"ticks\": \"\"}, \"bgcolor\": \"#E5ECF6\", \"radialaxis\": {\"gridcolor\": \"white\", \"linecolor\": \"white\", \"ticks\": \"\"}}, \"scene\": {\"xaxis\": {\"backgroundcolor\": \"#E5ECF6\", \"gridcolor\": \"white\", \"gridwidth\": 2, \"linecolor\": \"white\", \"showbackground\": true, \"ticks\": \"\", \"zerolinecolor\": \"white\"}, \"yaxis\": {\"backgroundcolor\": \"#E5ECF6\", \"gridcolor\": \"white\", \"gridwidth\": 2, \"linecolor\": \"white\", \"showbackground\": true, \"ticks\": \"\", \"zerolinecolor\": \"white\"}, \"zaxis\": {\"backgroundcolor\": \"#E5ECF6\", \"gridcolor\": \"white\", \"gridwidth\": 2, \"linecolor\": \"white\", \"showbackground\": true, \"ticks\": \"\", \"zerolinecolor\": \"white\"}}, \"shapedefaults\": {\"line\": {\"color\": \"#2a3f5f\"}}, \"ternary\": {\"aaxis\": {\"gridcolor\": \"white\", \"linecolor\": \"white\", \"ticks\": \"\"}, \"baxis\": {\"gridcolor\": \"white\", \"linecolor\": \"white\", \"ticks\": \"\"}, \"bgcolor\": \"#E5ECF6\", \"caxis\": {\"gridcolor\": \"white\", \"linecolor\": \"white\", \"ticks\": \"\"}}, \"title\": {\"x\": 0.05}, \"xaxis\": {\"automargin\": true, \"gridcolor\": \"white\", \"linecolor\": \"white\", \"ticks\": \"\", \"title\": {\"standoff\": 15}, \"zerolinecolor\": \"white\", \"zerolinewidth\": 2}, \"yaxis\": {\"automargin\": true, \"gridcolor\": \"white\", \"linecolor\": \"white\", \"ticks\": \"\", \"title\": {\"standoff\": 15}, \"zerolinecolor\": \"white\", \"zerolinewidth\": 2}}}, \"title\": {\"text\": \"M\\u00e1xima velocidade\"}, \"xaxis\": {\"title\": {\"text\": \"Altitude (m)\"}}, \"yaxis\": {\"title\": {\"text\": \"m (kg)\"}}},                        {\"responsive\": true}                    ).then(function(){\n",
       "                            \n",
       "var gd = document.getElementById('c740d1df-7381-47c7-b028-50f5859f4786');\n",
       "var x = new MutationObserver(function (mutations, observer) {{\n",
       "        var display = window.getComputedStyle(gd).display;\n",
       "        if (!display || display === 'none') {{\n",
       "            console.log([gd, 'removed!']);\n",
       "            Plotly.purge(gd);\n",
       "            observer.disconnect();\n",
       "        }}\n",
       "}});\n",
       "\n",
       "// Listen for the removal of the full notebook cells\n",
       "var notebookContainer = gd.closest('#notebook-container');\n",
       "if (notebookContainer) {{\n",
       "    x.observe(notebookContainer, {childList: true});\n",
       "}}\n",
       "\n",
       "// Listen for the clearing of the current output cell\n",
       "var outputEl = gd.closest('.output');\n",
       "if (outputEl) {{\n",
       "    x.observe(outputEl, {childList: true});\n",
       "}}\n",
       "\n",
       "                        })                };                });            </script>        </div>"
      ]
     },
     "metadata": {},
     "output_type": "display_data"
    },
    {
     "data": {
      "text/plain": [
       "<Figure size 1080x360 with 0 Axes>"
      ]
     },
     "metadata": {},
     "output_type": "display_data"
    }
   ],
   "source": [
    "X_0 = [0, H_0, 0, 0]\n",
    "Hs = np.arange(20000, 100001, 10000)\n",
    "ms = np.arange(60, 150, 5)\n",
    "cds = np.arange(0.8, 1.0, 0.01)\n",
    "pas = np.arange(0.5, 1.51, 0.1)\n",
    "g_0 = 9.8\n",
    "\n",
    "picos_de_potencia_2 = []\n",
    "picos_de_velocidade_2 = []\n",
    "lista_de_pontos = []\n",
    "plt.figure(figsize=(15, 5))\n",
    "for j in range(len(ms)):\n",
    "    for i in range(len(Hs)):\n",
    "        Cd = 0.8\n",
    "        m = ms[j]\n",
    "        H_0 = Hs[i]\n",
    "        pa_0 = 1.2\n",
    "        X_0 = [0, H_0, 0, 0]\n",
    "\n",
    "        Y = odeint(modelo2, X_0, lista_t_2, args=(pa_0, A_0, Cd))\n",
    "        lista_y_2 = Y[:,1]\n",
    "        lista_vy_2 = -Y[:,3] * 3.6\n",
    "\n",
    "        # Lista da forca D\n",
    "        forca_D = []\n",
    "        A = 1\n",
    "        Cd = 0.8\n",
    "        for jj in range(len(lista_vy_2)):\n",
    "            y = lista_y_2[jj]\n",
    "            vy = lista_vy_2[jj]\n",
    "            '''if y <= 2500:\n",
    "                A = A_paraquedas'''\n",
    "            D = (1 / 2) * pa_f(y, pa_0) * A * Cd * (vy * vy)\n",
    "            forca_D.append(D)\n",
    "\n",
    "        trabalho_D = [-forca_D[i + 1] * (lista_y_2[i + 1] - lista_y_2[i]) for i in range(0, len(lista_f) - 1)]\n",
    "        trabalho_D.append(trabalho_D[-1])\n",
    "        potencia_D = [trabalho_D[i + 1] / (lista_t_2[i + 1] - lista_t_2[i]) for i in range(0, len(lista_f) - 1)]\n",
    "        potencia_D.append(potencia_D[-1])\n",
    "\n",
    "        picos_de_potencia_2.append(max(potencia_D))\n",
    "        picos_de_velocidade_2.append(max(lista_vy_2))\n",
    "\n",
    "        lista_de_pontos.append((Hs[i], ms[j], picos_de_velocidade_2[-1], picos_de_potencia_2[-1]))\n",
    "\n",
    "\n",
    "\n",
    "x, y, z, k = [], [], [], []\n",
    "for i in range(len(lista_de_pontos)):\n",
    "    x.append(lista_de_pontos[i][0])\n",
    "    y.append(lista_de_pontos[i][1])\n",
    "    z.append(lista_de_pontos[i][2])\n",
    "    k.append(lista_de_pontos[i][3])\n",
    "k_new = list(k)\n",
    "z_new = list(z)\n",
    "x_new = list(x)\n",
    "y_new = list(y)\n",
    "\n",
    "import plotly.graph_objects as go\n",
    "\n",
    "layout = go.Layout(title='Máxima velocidade',\n",
    "                   yaxis={'title':'m (kg)'},\n",
    "                   xaxis={'title': 'Altitude (m)'})\n",
    "\n",
    "'''fig = go.Figure(data =\n",
    "    go.Contour(\n",
    "        z=z_new,\n",
    "        x=x_new, # horizontal axis\n",
    "        y=y_new, # vertical axis\n",
    "        contours=dict(\n",
    "            start=0,\n",
    "            end=140000000,\n",
    "            size=10000000,\n",
    "    )), layout=layout)'''\n",
    "\n",
    "'''fig = go.Figure(data =\n",
    "    go.Contour(\n",
    "        z=z_new,\n",
    "        x=x_new, # horizontal axis\n",
    "        y=y_new, # vertical axis\n",
    "        ), layout=layout)'''\n",
    "\n",
    "'''layout = go.Layout(title='Tempo de resfriamento em função de R e h',\n",
    "                   yaxis={'title':'h (m)'},\n",
    "                   xaxis={'title': 'R (m)'})'''\n",
    "\n",
    "fig2 = go.Figure(data =\n",
    "    go.Contour(\n",
    "        z=z,\n",
    "        x=x_new, # horizontal axis\n",
    "        y=y_new, # vertical axis\n",
    "    ), layout=layout)\n",
    "\n",
    "fig2.show()"
   ]
  },
  {
   "cell_type": "code",
   "execution_count": 149,
   "metadata": {},
   "outputs": [
    {
     "data": {
      "application/vnd.plotly.v1+json": {
       "config": {
        "plotlyServerURL": "https://plot.ly"
       },
       "data": [
        {
         "type": "contour",
         "x": [
          20000,
          30000,
          40000,
          50000,
          60000,
          70000,
          80000,
          90000,
          100000,
          20000,
          30000,
          40000,
          50000,
          60000,
          70000,
          80000,
          90000,
          100000,
          20000,
          30000,
          40000,
          50000,
          60000,
          70000,
          80000,
          90000,
          100000,
          20000,
          30000,
          40000,
          50000,
          60000,
          70000,
          80000,
          90000,
          100000,
          20000,
          30000,
          40000,
          50000,
          60000,
          70000,
          80000,
          90000,
          100000,
          20000,
          30000,
          40000,
          50000,
          60000,
          70000,
          80000,
          90000,
          100000,
          20000,
          30000,
          40000,
          50000,
          60000,
          70000,
          80000,
          90000,
          100000,
          20000,
          30000,
          40000,
          50000,
          60000,
          70000,
          80000,
          90000,
          100000,
          20000,
          30000,
          40000,
          50000,
          60000,
          70000,
          80000,
          90000,
          100000,
          20000,
          30000,
          40000,
          50000,
          60000,
          70000,
          80000,
          90000,
          100000,
          20000,
          30000,
          40000,
          50000,
          60000,
          70000,
          80000,
          90000,
          100000,
          20000,
          30000,
          40000,
          50000,
          60000,
          70000,
          80000,
          90000,
          100000,
          20000,
          30000,
          40000,
          50000,
          60000,
          70000,
          80000,
          90000,
          100000,
          20000,
          30000,
          40000,
          50000,
          60000,
          70000,
          80000,
          90000,
          100000,
          20000,
          30000,
          40000,
          50000,
          60000,
          70000,
          80000,
          90000,
          100000,
          20000,
          30000,
          40000,
          50000,
          60000,
          70000,
          80000,
          90000,
          100000,
          20000,
          30000,
          40000,
          50000,
          60000,
          70000,
          80000,
          90000,
          100000,
          20000,
          30000,
          40000,
          50000,
          60000,
          70000,
          80000,
          90000,
          100000
         ],
         "y": [
          60,
          60,
          60,
          60,
          60,
          60,
          60,
          60,
          60,
          65,
          65,
          65,
          65,
          65,
          65,
          65,
          65,
          65,
          70,
          70,
          70,
          70,
          70,
          70,
          70,
          70,
          70,
          75,
          75,
          75,
          75,
          75,
          75,
          75,
          75,
          75,
          80,
          80,
          80,
          80,
          80,
          80,
          80,
          80,
          80,
          85,
          85,
          85,
          85,
          85,
          85,
          85,
          85,
          85,
          90,
          90,
          90,
          90,
          90,
          90,
          90,
          90,
          90,
          95,
          95,
          95,
          95,
          95,
          95,
          95,
          95,
          95,
          100,
          100,
          100,
          100,
          100,
          100,
          100,
          100,
          100,
          105,
          105,
          105,
          105,
          105,
          105,
          105,
          105,
          105,
          110,
          110,
          110,
          110,
          110,
          110,
          110,
          110,
          110,
          115,
          115,
          115,
          115,
          115,
          115,
          115,
          115,
          115,
          120,
          120,
          120,
          120,
          120,
          120,
          120,
          120,
          120,
          125,
          125,
          125,
          125,
          125,
          125,
          125,
          125,
          125,
          130,
          130,
          130,
          130,
          130,
          130,
          130,
          130,
          130,
          135,
          135,
          135,
          135,
          135,
          135,
          135,
          135,
          135,
          140,
          140,
          140,
          140,
          140,
          140,
          140,
          140,
          140,
          145,
          145,
          145,
          145,
          145,
          145,
          145,
          145,
          145
         ],
         "z": [
          916449.4208757714,
          1625836.4471507617,
          2750305.785781068,
          4390983.049227888,
          6580228.559036497,
          9288506.285151852,
          12460596.587547474,
          16041814.751448989,
          19986430.280377,
          1028934.1833354171,
          1820674.8322096737,
          3070097.8589302935,
          4883263.181537999,
          7290416.230187066,
          10256739.847316643,
          13721930.191784726,
          17627051.230004035,
          21923213.911463436,
          1145207.5028098843,
          2021509.9240007366,
          3398590.5590082803,
          5387016.105488274,
          8014557.294631549,
          11241040.94859305,
          15001212.45725127,
          19231993.781595893,
          23881595.826052982,
          1265096.7116700916,
          2228046.464804502,
          3735310.286400635,
          5901532.277965353,
          8751755.918686923,
          12240562.984109337,
          16297454.138700906,
          20855220.901183907,
          25859418.433028672,
          1388445.7544195382,
          2440022.1100134593,
          4079835.496603184,
          6426219.5641536005,
          9501286.733792236,
          13254169.022991268,
          17609400.037435308,
          22496024.676582154,
          27856140.212643746,
          1515120.6160502883,
          2657194.4576394632,
          4431792.722149846,
          6960570.576434014,
          10262454.57807265,
          14281285.55511369,
          18936424.020316776,
          24153007.008758485,
          29870688.64587261,
          1644990.282701656,
          2879350.8788983324,
          4790833.641966742,
          7504079.315315943,
          11034717.703083692,
          15320920.868289929,
          20277456.405883726,
          25825377.93217409,
          31901455.286642574,
          1777943.1720501164,
          3106292.368640356,
          5156658.491593598,
          8056296.537730015,
          11817383.7778028,
          16372626.56785234,
          21631735.512892406,
          27512534.60570924,
          33948163.52236133,
          1913872.6185289645,
          3337851.7883811276,
          5528988.788380224,
          8616933.436599731,
          12610063.00181841,
          17435841.707338694,
          22998995.507742446,
          29213316.17855709,
          36009567.87004045,
          2052683.1427713067,
          3573862.2517077685,
          5907551.146215062,
          9185534.104285678,
          13412349.678073859,
          18509884.886987645,
          24378002.650151707,
          30927197.61767118,
          38085240.892315105,
          2194282.5229942994,
          3814156.5393881532,
          6292147.2114363285,
          9761811.432785349,
          14223784.374896452,
          19594427.880904973,
          25768998.15511251,
          32653847.92521851,
          40174529.18232039,
          2338595.4357008054,
          4058619.8510380634,
          6682540.536894406,
          10345465.04042467,
          15043897.205174072,
          20688839.64838095,
          27170956.014451228,
          34392735.85678915,
          42276528.37663637,
          2485537.7987519195,
          4307104.715482398,
          7078521.706598737,
          10936189.742856678,
          15872602.028839303,
          21792957.337125804,
          28583470.51293913,
          36143200.80667837,
          44391136.42693558,
          2635042.639111694,
          4559493.518480286,
          7479925.779583711,
          11533855.48952432,
          16709390.447659083,
          22906321.826570768,
          30006122.112461936,
          37904401.72156781,
          46517831.76269736,
          2787042.4414086,
          4815670.172737676,
          7886585.56645946,
          12138088.941638771,
          17553998.372344073,
          24028657.618084848,
          31439045.091475535,
          39676768.54711683,
          48655975.2572938,
          2941463.750563264,
          5075546.740460898,
          8298299.469515162,
          12748704.549613176,
          18406180.582618542,
          25159663.10797419,
          32881120.543014444,
          41458914.408710815,
          50804590.88134557,
          3098266.621141794,
          5339005.255255649,
          8714956.806092693,
          13365536.595194707,
          19265669.928085007,
          26298820.732316904,
          34332516.03758142,
          43251723.49788027,
          52964611.63901871,
          3257377.4852790763,
          5605965.997098178,
          9136420.905662825,
          13988406.924923906,
          20132167.78987974,
          27445976.644295767,
          35792480.32551594,
          45053759.56631259,
          55134982.40509349
         ]
        }
       ],
       "layout": {
        "template": {
         "data": {
          "bar": [
           {
            "error_x": {
             "color": "#2a3f5f"
            },
            "error_y": {
             "color": "#2a3f5f"
            },
            "marker": {
             "line": {
              "color": "#E5ECF6",
              "width": 0.5
             }
            },
            "type": "bar"
           }
          ],
          "barpolar": [
           {
            "marker": {
             "line": {
              "color": "#E5ECF6",
              "width": 0.5
             }
            },
            "type": "barpolar"
           }
          ],
          "carpet": [
           {
            "aaxis": {
             "endlinecolor": "#2a3f5f",
             "gridcolor": "white",
             "linecolor": "white",
             "minorgridcolor": "white",
             "startlinecolor": "#2a3f5f"
            },
            "baxis": {
             "endlinecolor": "#2a3f5f",
             "gridcolor": "white",
             "linecolor": "white",
             "minorgridcolor": "white",
             "startlinecolor": "#2a3f5f"
            },
            "type": "carpet"
           }
          ],
          "choropleth": [
           {
            "colorbar": {
             "outlinewidth": 0,
             "ticks": ""
            },
            "type": "choropleth"
           }
          ],
          "contour": [
           {
            "colorbar": {
             "outlinewidth": 0,
             "ticks": ""
            },
            "colorscale": [
             [
              0,
              "#0d0887"
             ],
             [
              0.1111111111111111,
              "#46039f"
             ],
             [
              0.2222222222222222,
              "#7201a8"
             ],
             [
              0.3333333333333333,
              "#9c179e"
             ],
             [
              0.4444444444444444,
              "#bd3786"
             ],
             [
              0.5555555555555556,
              "#d8576b"
             ],
             [
              0.6666666666666666,
              "#ed7953"
             ],
             [
              0.7777777777777778,
              "#fb9f3a"
             ],
             [
              0.8888888888888888,
              "#fdca26"
             ],
             [
              1,
              "#f0f921"
             ]
            ],
            "type": "contour"
           }
          ],
          "contourcarpet": [
           {
            "colorbar": {
             "outlinewidth": 0,
             "ticks": ""
            },
            "type": "contourcarpet"
           }
          ],
          "heatmap": [
           {
            "colorbar": {
             "outlinewidth": 0,
             "ticks": ""
            },
            "colorscale": [
             [
              0,
              "#0d0887"
             ],
             [
              0.1111111111111111,
              "#46039f"
             ],
             [
              0.2222222222222222,
              "#7201a8"
             ],
             [
              0.3333333333333333,
              "#9c179e"
             ],
             [
              0.4444444444444444,
              "#bd3786"
             ],
             [
              0.5555555555555556,
              "#d8576b"
             ],
             [
              0.6666666666666666,
              "#ed7953"
             ],
             [
              0.7777777777777778,
              "#fb9f3a"
             ],
             [
              0.8888888888888888,
              "#fdca26"
             ],
             [
              1,
              "#f0f921"
             ]
            ],
            "type": "heatmap"
           }
          ],
          "heatmapgl": [
           {
            "colorbar": {
             "outlinewidth": 0,
             "ticks": ""
            },
            "colorscale": [
             [
              0,
              "#0d0887"
             ],
             [
              0.1111111111111111,
              "#46039f"
             ],
             [
              0.2222222222222222,
              "#7201a8"
             ],
             [
              0.3333333333333333,
              "#9c179e"
             ],
             [
              0.4444444444444444,
              "#bd3786"
             ],
             [
              0.5555555555555556,
              "#d8576b"
             ],
             [
              0.6666666666666666,
              "#ed7953"
             ],
             [
              0.7777777777777778,
              "#fb9f3a"
             ],
             [
              0.8888888888888888,
              "#fdca26"
             ],
             [
              1,
              "#f0f921"
             ]
            ],
            "type": "heatmapgl"
           }
          ],
          "histogram": [
           {
            "marker": {
             "colorbar": {
              "outlinewidth": 0,
              "ticks": ""
             }
            },
            "type": "histogram"
           }
          ],
          "histogram2d": [
           {
            "colorbar": {
             "outlinewidth": 0,
             "ticks": ""
            },
            "colorscale": [
             [
              0,
              "#0d0887"
             ],
             [
              0.1111111111111111,
              "#46039f"
             ],
             [
              0.2222222222222222,
              "#7201a8"
             ],
             [
              0.3333333333333333,
              "#9c179e"
             ],
             [
              0.4444444444444444,
              "#bd3786"
             ],
             [
              0.5555555555555556,
              "#d8576b"
             ],
             [
              0.6666666666666666,
              "#ed7953"
             ],
             [
              0.7777777777777778,
              "#fb9f3a"
             ],
             [
              0.8888888888888888,
              "#fdca26"
             ],
             [
              1,
              "#f0f921"
             ]
            ],
            "type": "histogram2d"
           }
          ],
          "histogram2dcontour": [
           {
            "colorbar": {
             "outlinewidth": 0,
             "ticks": ""
            },
            "colorscale": [
             [
              0,
              "#0d0887"
             ],
             [
              0.1111111111111111,
              "#46039f"
             ],
             [
              0.2222222222222222,
              "#7201a8"
             ],
             [
              0.3333333333333333,
              "#9c179e"
             ],
             [
              0.4444444444444444,
              "#bd3786"
             ],
             [
              0.5555555555555556,
              "#d8576b"
             ],
             [
              0.6666666666666666,
              "#ed7953"
             ],
             [
              0.7777777777777778,
              "#fb9f3a"
             ],
             [
              0.8888888888888888,
              "#fdca26"
             ],
             [
              1,
              "#f0f921"
             ]
            ],
            "type": "histogram2dcontour"
           }
          ],
          "mesh3d": [
           {
            "colorbar": {
             "outlinewidth": 0,
             "ticks": ""
            },
            "type": "mesh3d"
           }
          ],
          "parcoords": [
           {
            "line": {
             "colorbar": {
              "outlinewidth": 0,
              "ticks": ""
             }
            },
            "type": "parcoords"
           }
          ],
          "pie": [
           {
            "automargin": true,
            "type": "pie"
           }
          ],
          "scatter": [
           {
            "marker": {
             "colorbar": {
              "outlinewidth": 0,
              "ticks": ""
             }
            },
            "type": "scatter"
           }
          ],
          "scatter3d": [
           {
            "line": {
             "colorbar": {
              "outlinewidth": 0,
              "ticks": ""
             }
            },
            "marker": {
             "colorbar": {
              "outlinewidth": 0,
              "ticks": ""
             }
            },
            "type": "scatter3d"
           }
          ],
          "scattercarpet": [
           {
            "marker": {
             "colorbar": {
              "outlinewidth": 0,
              "ticks": ""
             }
            },
            "type": "scattercarpet"
           }
          ],
          "scattergeo": [
           {
            "marker": {
             "colorbar": {
              "outlinewidth": 0,
              "ticks": ""
             }
            },
            "type": "scattergeo"
           }
          ],
          "scattergl": [
           {
            "marker": {
             "colorbar": {
              "outlinewidth": 0,
              "ticks": ""
             }
            },
            "type": "scattergl"
           }
          ],
          "scattermapbox": [
           {
            "marker": {
             "colorbar": {
              "outlinewidth": 0,
              "ticks": ""
             }
            },
            "type": "scattermapbox"
           }
          ],
          "scatterpolar": [
           {
            "marker": {
             "colorbar": {
              "outlinewidth": 0,
              "ticks": ""
             }
            },
            "type": "scatterpolar"
           }
          ],
          "scatterpolargl": [
           {
            "marker": {
             "colorbar": {
              "outlinewidth": 0,
              "ticks": ""
             }
            },
            "type": "scatterpolargl"
           }
          ],
          "scatterternary": [
           {
            "marker": {
             "colorbar": {
              "outlinewidth": 0,
              "ticks": ""
             }
            },
            "type": "scatterternary"
           }
          ],
          "surface": [
           {
            "colorbar": {
             "outlinewidth": 0,
             "ticks": ""
            },
            "colorscale": [
             [
              0,
              "#0d0887"
             ],
             [
              0.1111111111111111,
              "#46039f"
             ],
             [
              0.2222222222222222,
              "#7201a8"
             ],
             [
              0.3333333333333333,
              "#9c179e"
             ],
             [
              0.4444444444444444,
              "#bd3786"
             ],
             [
              0.5555555555555556,
              "#d8576b"
             ],
             [
              0.6666666666666666,
              "#ed7953"
             ],
             [
              0.7777777777777778,
              "#fb9f3a"
             ],
             [
              0.8888888888888888,
              "#fdca26"
             ],
             [
              1,
              "#f0f921"
             ]
            ],
            "type": "surface"
           }
          ],
          "table": [
           {
            "cells": {
             "fill": {
              "color": "#EBF0F8"
             },
             "line": {
              "color": "white"
             }
            },
            "header": {
             "fill": {
              "color": "#C8D4E3"
             },
             "line": {
              "color": "white"
             }
            },
            "type": "table"
           }
          ]
         },
         "layout": {
          "annotationdefaults": {
           "arrowcolor": "#2a3f5f",
           "arrowhead": 0,
           "arrowwidth": 1
          },
          "autotypenumbers": "strict",
          "coloraxis": {
           "colorbar": {
            "outlinewidth": 0,
            "ticks": ""
           }
          },
          "colorscale": {
           "diverging": [
            [
             0,
             "#8e0152"
            ],
            [
             0.1,
             "#c51b7d"
            ],
            [
             0.2,
             "#de77ae"
            ],
            [
             0.3,
             "#f1b6da"
            ],
            [
             0.4,
             "#fde0ef"
            ],
            [
             0.5,
             "#f7f7f7"
            ],
            [
             0.6,
             "#e6f5d0"
            ],
            [
             0.7,
             "#b8e186"
            ],
            [
             0.8,
             "#7fbc41"
            ],
            [
             0.9,
             "#4d9221"
            ],
            [
             1,
             "#276419"
            ]
           ],
           "sequential": [
            [
             0,
             "#0d0887"
            ],
            [
             0.1111111111111111,
             "#46039f"
            ],
            [
             0.2222222222222222,
             "#7201a8"
            ],
            [
             0.3333333333333333,
             "#9c179e"
            ],
            [
             0.4444444444444444,
             "#bd3786"
            ],
            [
             0.5555555555555556,
             "#d8576b"
            ],
            [
             0.6666666666666666,
             "#ed7953"
            ],
            [
             0.7777777777777778,
             "#fb9f3a"
            ],
            [
             0.8888888888888888,
             "#fdca26"
            ],
            [
             1,
             "#f0f921"
            ]
           ],
           "sequentialminus": [
            [
             0,
             "#0d0887"
            ],
            [
             0.1111111111111111,
             "#46039f"
            ],
            [
             0.2222222222222222,
             "#7201a8"
            ],
            [
             0.3333333333333333,
             "#9c179e"
            ],
            [
             0.4444444444444444,
             "#bd3786"
            ],
            [
             0.5555555555555556,
             "#d8576b"
            ],
            [
             0.6666666666666666,
             "#ed7953"
            ],
            [
             0.7777777777777778,
             "#fb9f3a"
            ],
            [
             0.8888888888888888,
             "#fdca26"
            ],
            [
             1,
             "#f0f921"
            ]
           ]
          },
          "colorway": [
           "#636efa",
           "#EF553B",
           "#00cc96",
           "#ab63fa",
           "#FFA15A",
           "#19d3f3",
           "#FF6692",
           "#B6E880",
           "#FF97FF",
           "#FECB52"
          ],
          "font": {
           "color": "#2a3f5f"
          },
          "geo": {
           "bgcolor": "white",
           "lakecolor": "white",
           "landcolor": "#E5ECF6",
           "showlakes": true,
           "showland": true,
           "subunitcolor": "white"
          },
          "hoverlabel": {
           "align": "left"
          },
          "hovermode": "closest",
          "mapbox": {
           "style": "light"
          },
          "paper_bgcolor": "white",
          "plot_bgcolor": "#E5ECF6",
          "polar": {
           "angularaxis": {
            "gridcolor": "white",
            "linecolor": "white",
            "ticks": ""
           },
           "bgcolor": "#E5ECF6",
           "radialaxis": {
            "gridcolor": "white",
            "linecolor": "white",
            "ticks": ""
           }
          },
          "scene": {
           "xaxis": {
            "backgroundcolor": "#E5ECF6",
            "gridcolor": "white",
            "gridwidth": 2,
            "linecolor": "white",
            "showbackground": true,
            "ticks": "",
            "zerolinecolor": "white"
           },
           "yaxis": {
            "backgroundcolor": "#E5ECF6",
            "gridcolor": "white",
            "gridwidth": 2,
            "linecolor": "white",
            "showbackground": true,
            "ticks": "",
            "zerolinecolor": "white"
           },
           "zaxis": {
            "backgroundcolor": "#E5ECF6",
            "gridcolor": "white",
            "gridwidth": 2,
            "linecolor": "white",
            "showbackground": true,
            "ticks": "",
            "zerolinecolor": "white"
           }
          },
          "shapedefaults": {
           "line": {
            "color": "#2a3f5f"
           }
          },
          "ternary": {
           "aaxis": {
            "gridcolor": "white",
            "linecolor": "white",
            "ticks": ""
           },
           "baxis": {
            "gridcolor": "white",
            "linecolor": "white",
            "ticks": ""
           },
           "bgcolor": "#E5ECF6",
           "caxis": {
            "gridcolor": "white",
            "linecolor": "white",
            "ticks": ""
           }
          },
          "title": {
           "x": 0.05
          },
          "xaxis": {
           "automargin": true,
           "gridcolor": "white",
           "linecolor": "white",
           "ticks": "",
           "title": {
            "standoff": 15
           },
           "zerolinecolor": "white",
           "zerolinewidth": 2
          },
          "yaxis": {
           "automargin": true,
           "gridcolor": "white",
           "linecolor": "white",
           "ticks": "",
           "title": {
            "standoff": 15
           },
           "zerolinecolor": "white",
           "zerolinewidth": 2
          }
         }
        },
        "title": {
         "text": "Máxima potência dissipada"
        },
        "xaxis": {
         "title": {
          "text": "Altitude (m)"
         }
        },
        "yaxis": {
         "title": {
          "text": "m (kg)"
         }
        }
       }
      },
      "text/html": [
       "<div>                            <div id=\"0b525830-df87-414e-b0b0-2def108104d9\" class=\"plotly-graph-div\" style=\"height:525px; width:100%;\"></div>            <script type=\"text/javascript\">                require([\"plotly\"], function(Plotly) {                    window.PLOTLYENV=window.PLOTLYENV || {};                                    if (document.getElementById(\"0b525830-df87-414e-b0b0-2def108104d9\")) {                    Plotly.newPlot(                        \"0b525830-df87-414e-b0b0-2def108104d9\",                        [{\"type\": \"contour\", \"x\": [20000, 30000, 40000, 50000, 60000, 70000, 80000, 90000, 100000, 20000, 30000, 40000, 50000, 60000, 70000, 80000, 90000, 100000, 20000, 30000, 40000, 50000, 60000, 70000, 80000, 90000, 100000, 20000, 30000, 40000, 50000, 60000, 70000, 80000, 90000, 100000, 20000, 30000, 40000, 50000, 60000, 70000, 80000, 90000, 100000, 20000, 30000, 40000, 50000, 60000, 70000, 80000, 90000, 100000, 20000, 30000, 40000, 50000, 60000, 70000, 80000, 90000, 100000, 20000, 30000, 40000, 50000, 60000, 70000, 80000, 90000, 100000, 20000, 30000, 40000, 50000, 60000, 70000, 80000, 90000, 100000, 20000, 30000, 40000, 50000, 60000, 70000, 80000, 90000, 100000, 20000, 30000, 40000, 50000, 60000, 70000, 80000, 90000, 100000, 20000, 30000, 40000, 50000, 60000, 70000, 80000, 90000, 100000, 20000, 30000, 40000, 50000, 60000, 70000, 80000, 90000, 100000, 20000, 30000, 40000, 50000, 60000, 70000, 80000, 90000, 100000, 20000, 30000, 40000, 50000, 60000, 70000, 80000, 90000, 100000, 20000, 30000, 40000, 50000, 60000, 70000, 80000, 90000, 100000, 20000, 30000, 40000, 50000, 60000, 70000, 80000, 90000, 100000, 20000, 30000, 40000, 50000, 60000, 70000, 80000, 90000, 100000], \"y\": [60, 60, 60, 60, 60, 60, 60, 60, 60, 65, 65, 65, 65, 65, 65, 65, 65, 65, 70, 70, 70, 70, 70, 70, 70, 70, 70, 75, 75, 75, 75, 75, 75, 75, 75, 75, 80, 80, 80, 80, 80, 80, 80, 80, 80, 85, 85, 85, 85, 85, 85, 85, 85, 85, 90, 90, 90, 90, 90, 90, 90, 90, 90, 95, 95, 95, 95, 95, 95, 95, 95, 95, 100, 100, 100, 100, 100, 100, 100, 100, 100, 105, 105, 105, 105, 105, 105, 105, 105, 105, 110, 110, 110, 110, 110, 110, 110, 110, 110, 115, 115, 115, 115, 115, 115, 115, 115, 115, 120, 120, 120, 120, 120, 120, 120, 120, 120, 125, 125, 125, 125, 125, 125, 125, 125, 125, 130, 130, 130, 130, 130, 130, 130, 130, 130, 135, 135, 135, 135, 135, 135, 135, 135, 135, 140, 140, 140, 140, 140, 140, 140, 140, 140, 145, 145, 145, 145, 145, 145, 145, 145, 145], \"z\": [916449.4208757714, 1625836.4471507617, 2750305.785781068, 4390983.049227888, 6580228.559036497, 9288506.285151852, 12460596.587547474, 16041814.751448989, 19986430.280377, 1028934.1833354171, 1820674.8322096737, 3070097.8589302935, 4883263.181537999, 7290416.230187066, 10256739.847316643, 13721930.191784726, 17627051.230004035, 21923213.911463436, 1145207.5028098843, 2021509.9240007366, 3398590.5590082803, 5387016.105488274, 8014557.294631549, 11241040.94859305, 15001212.45725127, 19231993.781595893, 23881595.826052982, 1265096.7116700916, 2228046.464804502, 3735310.286400635, 5901532.277965353, 8751755.918686923, 12240562.984109337, 16297454.138700906, 20855220.901183907, 25859418.433028672, 1388445.7544195382, 2440022.1100134593, 4079835.496603184, 6426219.5641536005, 9501286.733792236, 13254169.022991268, 17609400.037435308, 22496024.676582154, 27856140.212643746, 1515120.6160502883, 2657194.4576394632, 4431792.722149846, 6960570.576434014, 10262454.57807265, 14281285.55511369, 18936424.020316776, 24153007.008758485, 29870688.64587261, 1644990.282701656, 2879350.8788983324, 4790833.641966742, 7504079.315315943, 11034717.703083692, 15320920.868289929, 20277456.405883726, 25825377.93217409, 31901455.286642574, 1777943.1720501164, 3106292.368640356, 5156658.491593598, 8056296.537730015, 11817383.7778028, 16372626.56785234, 21631735.512892406, 27512534.60570924, 33948163.52236133, 1913872.6185289645, 3337851.7883811276, 5528988.788380224, 8616933.436599731, 12610063.00181841, 17435841.707338694, 22998995.507742446, 29213316.17855709, 36009567.87004045, 2052683.1427713067, 3573862.2517077685, 5907551.146215062, 9185534.104285678, 13412349.678073859, 18509884.886987645, 24378002.650151707, 30927197.61767118, 38085240.892315105, 2194282.5229942994, 3814156.5393881532, 6292147.2114363285, 9761811.432785349, 14223784.374896452, 19594427.880904973, 25768998.15511251, 32653847.92521851, 40174529.18232039, 2338595.4357008054, 4058619.8510380634, 6682540.536894406, 10345465.04042467, 15043897.205174072, 20688839.64838095, 27170956.014451228, 34392735.85678915, 42276528.37663637, 2485537.7987519195, 4307104.715482398, 7078521.706598737, 10936189.742856678, 15872602.028839303, 21792957.337125804, 28583470.51293913, 36143200.80667837, 44391136.42693558, 2635042.639111694, 4559493.518480286, 7479925.779583711, 11533855.48952432, 16709390.447659083, 22906321.826570768, 30006122.112461936, 37904401.72156781, 46517831.76269736, 2787042.4414086, 4815670.172737676, 7886585.56645946, 12138088.941638771, 17553998.372344073, 24028657.618084848, 31439045.091475535, 39676768.54711683, 48655975.2572938, 2941463.750563264, 5075546.740460898, 8298299.469515162, 12748704.549613176, 18406180.582618542, 25159663.10797419, 32881120.543014444, 41458914.408710815, 50804590.88134557, 3098266.621141794, 5339005.255255649, 8714956.806092693, 13365536.595194707, 19265669.928085007, 26298820.732316904, 34332516.03758142, 43251723.49788027, 52964611.63901871, 3257377.4852790763, 5605965.997098178, 9136420.905662825, 13988406.924923906, 20132167.78987974, 27445976.644295767, 35792480.32551594, 45053759.56631259, 55134982.40509349]}],                        {\"template\": {\"data\": {\"bar\": [{\"error_x\": {\"color\": \"#2a3f5f\"}, \"error_y\": {\"color\": \"#2a3f5f\"}, \"marker\": {\"line\": {\"color\": \"#E5ECF6\", \"width\": 0.5}}, \"type\": \"bar\"}], \"barpolar\": [{\"marker\": {\"line\": {\"color\": \"#E5ECF6\", \"width\": 0.5}}, \"type\": \"barpolar\"}], \"carpet\": [{\"aaxis\": {\"endlinecolor\": \"#2a3f5f\", \"gridcolor\": \"white\", \"linecolor\": \"white\", \"minorgridcolor\": \"white\", \"startlinecolor\": \"#2a3f5f\"}, \"baxis\": {\"endlinecolor\": \"#2a3f5f\", \"gridcolor\": \"white\", \"linecolor\": \"white\", \"minorgridcolor\": \"white\", \"startlinecolor\": \"#2a3f5f\"}, \"type\": \"carpet\"}], \"choropleth\": [{\"colorbar\": {\"outlinewidth\": 0, \"ticks\": \"\"}, \"type\": \"choropleth\"}], \"contour\": [{\"colorbar\": {\"outlinewidth\": 0, \"ticks\": \"\"}, \"colorscale\": [[0.0, \"#0d0887\"], [0.1111111111111111, \"#46039f\"], [0.2222222222222222, \"#7201a8\"], [0.3333333333333333, \"#9c179e\"], [0.4444444444444444, \"#bd3786\"], [0.5555555555555556, \"#d8576b\"], [0.6666666666666666, \"#ed7953\"], [0.7777777777777778, \"#fb9f3a\"], [0.8888888888888888, \"#fdca26\"], [1.0, \"#f0f921\"]], \"type\": \"contour\"}], \"contourcarpet\": [{\"colorbar\": {\"outlinewidth\": 0, \"ticks\": \"\"}, \"type\": \"contourcarpet\"}], \"heatmap\": [{\"colorbar\": {\"outlinewidth\": 0, \"ticks\": \"\"}, \"colorscale\": [[0.0, \"#0d0887\"], [0.1111111111111111, \"#46039f\"], [0.2222222222222222, \"#7201a8\"], [0.3333333333333333, \"#9c179e\"], [0.4444444444444444, \"#bd3786\"], [0.5555555555555556, \"#d8576b\"], [0.6666666666666666, \"#ed7953\"], [0.7777777777777778, \"#fb9f3a\"], [0.8888888888888888, \"#fdca26\"], [1.0, \"#f0f921\"]], \"type\": \"heatmap\"}], \"heatmapgl\": [{\"colorbar\": {\"outlinewidth\": 0, \"ticks\": \"\"}, \"colorscale\": [[0.0, \"#0d0887\"], [0.1111111111111111, \"#46039f\"], [0.2222222222222222, \"#7201a8\"], [0.3333333333333333, \"#9c179e\"], [0.4444444444444444, \"#bd3786\"], [0.5555555555555556, \"#d8576b\"], [0.6666666666666666, \"#ed7953\"], [0.7777777777777778, \"#fb9f3a\"], [0.8888888888888888, \"#fdca26\"], [1.0, \"#f0f921\"]], \"type\": \"heatmapgl\"}], \"histogram\": [{\"marker\": {\"colorbar\": {\"outlinewidth\": 0, \"ticks\": \"\"}}, \"type\": \"histogram\"}], \"histogram2d\": [{\"colorbar\": {\"outlinewidth\": 0, \"ticks\": \"\"}, \"colorscale\": [[0.0, \"#0d0887\"], [0.1111111111111111, \"#46039f\"], [0.2222222222222222, \"#7201a8\"], [0.3333333333333333, \"#9c179e\"], [0.4444444444444444, \"#bd3786\"], [0.5555555555555556, \"#d8576b\"], [0.6666666666666666, \"#ed7953\"], [0.7777777777777778, \"#fb9f3a\"], [0.8888888888888888, \"#fdca26\"], [1.0, \"#f0f921\"]], \"type\": \"histogram2d\"}], \"histogram2dcontour\": [{\"colorbar\": {\"outlinewidth\": 0, \"ticks\": \"\"}, \"colorscale\": [[0.0, \"#0d0887\"], [0.1111111111111111, \"#46039f\"], [0.2222222222222222, \"#7201a8\"], [0.3333333333333333, \"#9c179e\"], [0.4444444444444444, \"#bd3786\"], [0.5555555555555556, \"#d8576b\"], [0.6666666666666666, \"#ed7953\"], [0.7777777777777778, \"#fb9f3a\"], [0.8888888888888888, \"#fdca26\"], [1.0, \"#f0f921\"]], \"type\": \"histogram2dcontour\"}], \"mesh3d\": [{\"colorbar\": {\"outlinewidth\": 0, \"ticks\": \"\"}, \"type\": \"mesh3d\"}], \"parcoords\": [{\"line\": {\"colorbar\": {\"outlinewidth\": 0, \"ticks\": \"\"}}, \"type\": \"parcoords\"}], \"pie\": [{\"automargin\": true, \"type\": \"pie\"}], \"scatter\": [{\"marker\": {\"colorbar\": {\"outlinewidth\": 0, \"ticks\": \"\"}}, \"type\": \"scatter\"}], \"scatter3d\": [{\"line\": {\"colorbar\": {\"outlinewidth\": 0, \"ticks\": \"\"}}, \"marker\": {\"colorbar\": {\"outlinewidth\": 0, \"ticks\": \"\"}}, \"type\": \"scatter3d\"}], \"scattercarpet\": [{\"marker\": {\"colorbar\": {\"outlinewidth\": 0, \"ticks\": \"\"}}, \"type\": \"scattercarpet\"}], \"scattergeo\": [{\"marker\": {\"colorbar\": {\"outlinewidth\": 0, \"ticks\": \"\"}}, \"type\": \"scattergeo\"}], \"scattergl\": [{\"marker\": {\"colorbar\": {\"outlinewidth\": 0, \"ticks\": \"\"}}, \"type\": \"scattergl\"}], \"scattermapbox\": [{\"marker\": {\"colorbar\": {\"outlinewidth\": 0, \"ticks\": \"\"}}, \"type\": \"scattermapbox\"}], \"scatterpolar\": [{\"marker\": {\"colorbar\": {\"outlinewidth\": 0, \"ticks\": \"\"}}, \"type\": \"scatterpolar\"}], \"scatterpolargl\": [{\"marker\": {\"colorbar\": {\"outlinewidth\": 0, \"ticks\": \"\"}}, \"type\": \"scatterpolargl\"}], \"scatterternary\": [{\"marker\": {\"colorbar\": {\"outlinewidth\": 0, \"ticks\": \"\"}}, \"type\": \"scatterternary\"}], \"surface\": [{\"colorbar\": {\"outlinewidth\": 0, \"ticks\": \"\"}, \"colorscale\": [[0.0, \"#0d0887\"], [0.1111111111111111, \"#46039f\"], [0.2222222222222222, \"#7201a8\"], [0.3333333333333333, \"#9c179e\"], [0.4444444444444444, \"#bd3786\"], [0.5555555555555556, \"#d8576b\"], [0.6666666666666666, \"#ed7953\"], [0.7777777777777778, \"#fb9f3a\"], [0.8888888888888888, \"#fdca26\"], [1.0, \"#f0f921\"]], \"type\": \"surface\"}], \"table\": [{\"cells\": {\"fill\": {\"color\": \"#EBF0F8\"}, \"line\": {\"color\": \"white\"}}, \"header\": {\"fill\": {\"color\": \"#C8D4E3\"}, \"line\": {\"color\": \"white\"}}, \"type\": \"table\"}]}, \"layout\": {\"annotationdefaults\": {\"arrowcolor\": \"#2a3f5f\", \"arrowhead\": 0, \"arrowwidth\": 1}, \"autotypenumbers\": \"strict\", \"coloraxis\": {\"colorbar\": {\"outlinewidth\": 0, \"ticks\": \"\"}}, \"colorscale\": {\"diverging\": [[0, \"#8e0152\"], [0.1, \"#c51b7d\"], [0.2, \"#de77ae\"], [0.3, \"#f1b6da\"], [0.4, \"#fde0ef\"], [0.5, \"#f7f7f7\"], [0.6, \"#e6f5d0\"], [0.7, \"#b8e186\"], [0.8, \"#7fbc41\"], [0.9, \"#4d9221\"], [1, \"#276419\"]], \"sequential\": [[0.0, \"#0d0887\"], [0.1111111111111111, \"#46039f\"], [0.2222222222222222, \"#7201a8\"], [0.3333333333333333, \"#9c179e\"], [0.4444444444444444, \"#bd3786\"], [0.5555555555555556, \"#d8576b\"], [0.6666666666666666, \"#ed7953\"], [0.7777777777777778, \"#fb9f3a\"], [0.8888888888888888, \"#fdca26\"], [1.0, \"#f0f921\"]], \"sequentialminus\": [[0.0, \"#0d0887\"], [0.1111111111111111, \"#46039f\"], [0.2222222222222222, \"#7201a8\"], [0.3333333333333333, \"#9c179e\"], [0.4444444444444444, \"#bd3786\"], [0.5555555555555556, \"#d8576b\"], [0.6666666666666666, \"#ed7953\"], [0.7777777777777778, \"#fb9f3a\"], [0.8888888888888888, \"#fdca26\"], [1.0, \"#f0f921\"]]}, \"colorway\": [\"#636efa\", \"#EF553B\", \"#00cc96\", \"#ab63fa\", \"#FFA15A\", \"#19d3f3\", \"#FF6692\", \"#B6E880\", \"#FF97FF\", \"#FECB52\"], \"font\": {\"color\": \"#2a3f5f\"}, \"geo\": {\"bgcolor\": \"white\", \"lakecolor\": \"white\", \"landcolor\": \"#E5ECF6\", \"showlakes\": true, \"showland\": true, \"subunitcolor\": \"white\"}, \"hoverlabel\": {\"align\": \"left\"}, \"hovermode\": \"closest\", \"mapbox\": {\"style\": \"light\"}, \"paper_bgcolor\": \"white\", \"plot_bgcolor\": \"#E5ECF6\", \"polar\": {\"angularaxis\": {\"gridcolor\": \"white\", \"linecolor\": \"white\", \"ticks\": \"\"}, \"bgcolor\": \"#E5ECF6\", \"radialaxis\": {\"gridcolor\": \"white\", \"linecolor\": \"white\", \"ticks\": \"\"}}, \"scene\": {\"xaxis\": {\"backgroundcolor\": \"#E5ECF6\", \"gridcolor\": \"white\", \"gridwidth\": 2, \"linecolor\": \"white\", \"showbackground\": true, \"ticks\": \"\", \"zerolinecolor\": \"white\"}, \"yaxis\": {\"backgroundcolor\": \"#E5ECF6\", \"gridcolor\": \"white\", \"gridwidth\": 2, \"linecolor\": \"white\", \"showbackground\": true, \"ticks\": \"\", \"zerolinecolor\": \"white\"}, \"zaxis\": {\"backgroundcolor\": \"#E5ECF6\", \"gridcolor\": \"white\", \"gridwidth\": 2, \"linecolor\": \"white\", \"showbackground\": true, \"ticks\": \"\", \"zerolinecolor\": \"white\"}}, \"shapedefaults\": {\"line\": {\"color\": \"#2a3f5f\"}}, \"ternary\": {\"aaxis\": {\"gridcolor\": \"white\", \"linecolor\": \"white\", \"ticks\": \"\"}, \"baxis\": {\"gridcolor\": \"white\", \"linecolor\": \"white\", \"ticks\": \"\"}, \"bgcolor\": \"#E5ECF6\", \"caxis\": {\"gridcolor\": \"white\", \"linecolor\": \"white\", \"ticks\": \"\"}}, \"title\": {\"x\": 0.05}, \"xaxis\": {\"automargin\": true, \"gridcolor\": \"white\", \"linecolor\": \"white\", \"ticks\": \"\", \"title\": {\"standoff\": 15}, \"zerolinecolor\": \"white\", \"zerolinewidth\": 2}, \"yaxis\": {\"automargin\": true, \"gridcolor\": \"white\", \"linecolor\": \"white\", \"ticks\": \"\", \"title\": {\"standoff\": 15}, \"zerolinecolor\": \"white\", \"zerolinewidth\": 2}}}, \"title\": {\"text\": \"M\\u00e1xima pot\\u00eancia dissipada\"}, \"xaxis\": {\"title\": {\"text\": \"Altitude (m)\"}}, \"yaxis\": {\"title\": {\"text\": \"m (kg)\"}}},                        {\"responsive\": true}                    ).then(function(){\n",
       "                            \n",
       "var gd = document.getElementById('0b525830-df87-414e-b0b0-2def108104d9');\n",
       "var x = new MutationObserver(function (mutations, observer) {{\n",
       "        var display = window.getComputedStyle(gd).display;\n",
       "        if (!display || display === 'none') {{\n",
       "            console.log([gd, 'removed!']);\n",
       "            Plotly.purge(gd);\n",
       "            observer.disconnect();\n",
       "        }}\n",
       "}});\n",
       "\n",
       "// Listen for the removal of the full notebook cells\n",
       "var notebookContainer = gd.closest('#notebook-container');\n",
       "if (notebookContainer) {{\n",
       "    x.observe(notebookContainer, {childList: true});\n",
       "}}\n",
       "\n",
       "// Listen for the clearing of the current output cell\n",
       "var outputEl = gd.closest('.output');\n",
       "if (outputEl) {{\n",
       "    x.observe(outputEl, {childList: true});\n",
       "}}\n",
       "\n",
       "                        })                };                });            </script>        </div>"
      ]
     },
     "metadata": {},
     "output_type": "display_data"
    }
   ],
   "source": [
    "layout = go.Layout(title='Máxima potência dissipada',\n",
    "                   yaxis={'title':'m (kg)'},\n",
    "                   xaxis={'title': 'Altitude (m)'})\n",
    "\n",
    "fig3 = go.Figure(data =\n",
    "    go.Contour(\n",
    "        z=k_new,\n",
    "        x=x_new, # horizontal axis\n",
    "        y=y_new, # vertical axis\n",
    "        ), layout=layout)\n",
    "fig3.show()"
   ]
  },
  {
   "cell_type": "code",
   "execution_count": null,
   "metadata": {},
   "outputs": [],
   "source": []
  }
 ],
 "metadata": {
  "kernelspec": {
   "display_name": "Python 3",
   "language": "python",
   "name": "python3"
  },
  "language_info": {
   "codemirror_mode": {
    "name": "ipython",
    "version": 3
   },
   "file_extension": ".py",
   "mimetype": "text/x-python",
   "name": "python",
   "nbconvert_exporter": "python",
   "pygments_lexer": "ipython3",
   "version": "3.8.5"
  }
 },
 "nbformat": 4,
 "nbformat_minor": 4
}
